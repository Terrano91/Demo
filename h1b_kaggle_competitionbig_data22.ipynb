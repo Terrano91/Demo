{
  "nbformat": 4,
  "nbformat_minor": 0,
  "metadata": {
    "colab": {
      "name": "h1b_kaggle competitionbig data22.ipynb",
      "version": "0.3.2",
      "provenance": [],
      "collapsed_sections": [],
      "toc_visible": true,
      "include_colab_link": true
    },
    "kernelspec": {
      "display_name": "Python 3",
      "language": "python",
      "name": "python3"
    }
  },
  "cells": [
    {
      "cell_type": "markdown",
      "metadata": {
        "id": "view-in-github",
        "colab_type": "text"
      },
      "source": [
        "<a href=\"https://colab.research.google.com/github/Terrano91/Demo/blob/master/h1b_kaggle_competitionbig_data22.ipynb\" target=\"_parent\"><img src=\"https://colab.research.google.com/assets/colab-badge.svg\" alt=\"Open In Colab\"/></a>"
      ]
    },
    {
      "metadata": {
        "id": "6CJfIezRrcuw",
        "colab_type": "code",
        "outputId": "aeb248db-92a5-4626-d06b-e9f26fe9c544",
        "colab": {
          "base_uri": "https://localhost:8080/",
          "height": 34
        }
      },
      "cell_type": "code",
      "source": [
        "import numpy as np\n",
        "import pandas as pd\n",
        "import matplotlib.pyplot as plt\n",
        "import seaborn as sns\n",
        "import warnings\n",
        "\n",
        "import re\n",
        "from xgboost import XGBClassifier\n",
        "from sklearn import preprocessing\n",
        "from sklearn.model_selection import train_test_split\n",
        "\n",
        "from sklearn.metrics import confusion_matrix\n",
        "\n",
        "from sklearn.neighbors import KNeighborsClassifier\n",
        "from sklearn.linear_model import LogisticRegression\n",
        "from sklearn.metrics import confusion_matrix,classification_report,accuracy_score\n",
        "from sklearn.ensemble import RandomForestRegressor,GradientBoostingClassifier,ExtraTreesRegressor,RandomForestClassifier\n",
        "from sklearn import metrics\n",
        "\n",
        "print(\"Done importing\")"
      ],
      "execution_count": 1,
      "outputs": [
        {
          "output_type": "stream",
          "text": [
            "Done importing\n"
          ],
          "name": "stdout"
        }
      ]
    },
    {
      "metadata": {
        "id": "T_9bySz4_ZnD",
        "colab_type": "code",
        "outputId": "ffc70cf5-2963-4dbf-ea76-187c40abcf28",
        "colab": {
          "base_uri": "https://localhost:8080/",
          "height": 122
        }
      },
      "cell_type": "code",
      "source": [
        "from google.colab import drive\n",
        "\n",
        "drive.mount('/content/gdrive')"
      ],
      "execution_count": 2,
      "outputs": [
        {
          "output_type": "stream",
          "text": [
            "Go to this URL in a browser: https://accounts.google.com/o/oauth2/auth?client_id=947318989803-6bn6qk8qdgf4n4g3pfee6491hc0brc4i.apps.googleusercontent.com&redirect_uri=urn%3Aietf%3Awg%3Aoauth%3A2.0%3Aoob&scope=email%20https%3A%2F%2Fwww.googleapis.com%2Fauth%2Fdocs.test%20https%3A%2F%2Fwww.googleapis.com%2Fauth%2Fdrive%20https%3A%2F%2Fwww.googleapis.com%2Fauth%2Fdrive.photos.readonly%20https%3A%2F%2Fwww.googleapis.com%2Fauth%2Fpeopleapi.readonly&response_type=code\n",
            "\n",
            "Enter your authorization code:\n",
            "··········\n",
            "Mounted at /content/gdrive\n"
          ],
          "name": "stdout"
        }
      ]
    },
    {
      "metadata": {
        "id": "jTvYZMgQrcwK",
        "colab_type": "code",
        "outputId": "6759166b-025f-4124-b414-6b042925c37a",
        "colab": {
          "base_uri": "https://localhost:8080/",
          "height": 71
        }
      },
      "cell_type": "code",
      "source": [
        "data=pd.read_csv('gdrive/My Drive/Data Science Projects/h1b_kaggle.csv',encoding='latin1') #encoding"
      ],
      "execution_count": 3,
      "outputs": [
        {
          "output_type": "stream",
          "text": [
            "/usr/local/lib/python3.6/dist-packages/IPython/core/interactiveshell.py:2718: DtypeWarning: Columns (6,7,9,10) have mixed types. Specify dtype option on import or set low_memory=False.\n",
            "  interactivity=interactivity, compiler=compiler, result=result)\n"
          ],
          "name": "stderr"
        }
      ]
    },
    {
      "metadata": {
        "id": "p9l1FZdLrcwW",
        "colab_type": "code",
        "outputId": "8a7eb1b7-5733-4aaf-ea6d-b3638c5ca3e8",
        "colab": {
          "base_uri": "https://localhost:8080/",
          "height": 462
        }
      },
      "cell_type": "code",
      "source": [
        "data.head(5)"
      ],
      "execution_count": 4,
      "outputs": [
        {
          "output_type": "execute_result",
          "data": {
            "text/html": [
              "<div>\n",
              "<style scoped>\n",
              "    .dataframe tbody tr th:only-of-type {\n",
              "        vertical-align: middle;\n",
              "    }\n",
              "\n",
              "    .dataframe tbody tr th {\n",
              "        vertical-align: top;\n",
              "    }\n",
              "\n",
              "    .dataframe thead th {\n",
              "        text-align: right;\n",
              "    }\n",
              "</style>\n",
              "<table border=\"1\" class=\"dataframe\">\n",
              "  <thead>\n",
              "    <tr style=\"text-align: right;\">\n",
              "      <th></th>\n",
              "      <th>Unnamed: 0</th>\n",
              "      <th>CASE_STATUS</th>\n",
              "      <th>EMPLOYER_NAME</th>\n",
              "      <th>SOC_NAME</th>\n",
              "      <th>JOB_TITLE</th>\n",
              "      <th>FULL_TIME_POSITION</th>\n",
              "      <th>PREVAILING_WAGE</th>\n",
              "      <th>YEAR</th>\n",
              "      <th>WORKSITE</th>\n",
              "      <th>lon</th>\n",
              "      <th>lat</th>\n",
              "    </tr>\n",
              "  </thead>\n",
              "  <tbody>\n",
              "    <tr>\n",
              "      <th>0</th>\n",
              "      <td>1</td>\n",
              "      <td>CERTIFIED-WITHDRAWN</td>\n",
              "      <td>UNIVERSITY OF MICHIGAN</td>\n",
              "      <td>BIOCHEMISTS AND BIOPHYSICISTS</td>\n",
              "      <td>POSTDOCTORAL RESEARCH FELLOW</td>\n",
              "      <td>N</td>\n",
              "      <td>36067</td>\n",
              "      <td>20£1*6</td>\n",
              "      <td>ANN ARBOR, MICHIGAN</td>\n",
              "      <td>-83.7430378</td>\n",
              "      <td>42.2808256</td>\n",
              "    </tr>\n",
              "    <tr>\n",
              "      <th>1</th>\n",
              "      <td>2</td>\n",
              "      <td>CERTIFIED-WITHDRAWN</td>\n",
              "      <td>GOODMAN NETWORKS, INC.</td>\n",
              "      <td>CHIEF EXECUTIVES232</td>\n",
              "      <td>CHIEF OPERATING OFFICER</td>\n",
              "      <td>Y</td>\n",
              "      <td>242674</td>\n",
              "      <td>20£1*6</td>\n",
              "      <td>PLANO, TEXAS</td>\n",
              "      <td>-96.6988856</td>\n",
              "      <td>33.0198431</td>\n",
              "    </tr>\n",
              "    <tr>\n",
              "      <th>2</th>\n",
              "      <td>3</td>\n",
              "      <td>CERTIFIED-WITHDRAWN</td>\n",
              "      <td>PORTS AMERICA GROUP, INC.</td>\n",
              "      <td>CHIEF EXECUTIVES232</td>\n",
              "      <td>CHIEF PROCESS OFFICER</td>\n",
              "      <td>Y</td>\n",
              "      <td>193066</td>\n",
              "      <td>20£1*6</td>\n",
              "      <td>JERSEY CITY, NEW JERSEY</td>\n",
              "      <td>-74.0776417</td>\n",
              "      <td>40.7281575</td>\n",
              "    </tr>\n",
              "    <tr>\n",
              "      <th>3</th>\n",
              "      <td>4</td>\n",
              "      <td>CERTIFIED-WITHDRAWN</td>\n",
              "      <td>GATES CORPORATION, A WHOLLY-OWNED SUBSIDIARY O...</td>\n",
              "      <td>CHIEF EXECUTIVES232</td>\n",
              "      <td>REGIONAL PRESIDEN, AMERICAS</td>\n",
              "      <td>Y</td>\n",
              "      <td>220314</td>\n",
              "      <td>20£1*6</td>\n",
              "      <td>DENVER, COLORADO</td>\n",
              "      <td>-104.990251</td>\n",
              "      <td>39.7392358</td>\n",
              "    </tr>\n",
              "    <tr>\n",
              "      <th>4</th>\n",
              "      <td>5</td>\n",
              "      <td>WITHDRAWN</td>\n",
              "      <td>PEABODY INVESTMENTS CORP.</td>\n",
              "      <td>CHIEF EXECUTIVES232</td>\n",
              "      <td>PRESIDENT MONGOLIA AND INDIA</td>\n",
              "      <td>Y</td>\n",
              "      <td>157518.4</td>\n",
              "      <td>20£1*6</td>\n",
              "      <td>ST. LOUIS, MISSOURI</td>\n",
              "      <td>-90.1994042</td>\n",
              "      <td>38.6270025</td>\n",
              "    </tr>\n",
              "  </tbody>\n",
              "</table>\n",
              "</div>"
            ],
            "text/plain": [
              "  Unnamed: 0          CASE_STATUS  \\\n",
              "0          1  CERTIFIED-WITHDRAWN   \n",
              "1          2  CERTIFIED-WITHDRAWN   \n",
              "2          3  CERTIFIED-WITHDRAWN   \n",
              "3          4  CERTIFIED-WITHDRAWN   \n",
              "4          5            WITHDRAWN   \n",
              "\n",
              "                                       EMPLOYER_NAME  \\\n",
              "0                             UNIVERSITY OF MICHIGAN   \n",
              "1                             GOODMAN NETWORKS, INC.   \n",
              "2                          PORTS AMERICA GROUP, INC.   \n",
              "3  GATES CORPORATION, A WHOLLY-OWNED SUBSIDIARY O...   \n",
              "4                          PEABODY INVESTMENTS CORP.   \n",
              "\n",
              "                        SOC_NAME                     JOB_TITLE  \\\n",
              "0  BIOCHEMISTS AND BIOPHYSICISTS  POSTDOCTORAL RESEARCH FELLOW   \n",
              "1            CHIEF EXECUTIVES232       CHIEF OPERATING OFFICER   \n",
              "2            CHIEF EXECUTIVES232         CHIEF PROCESS OFFICER   \n",
              "3            CHIEF EXECUTIVES232   REGIONAL PRESIDEN, AMERICAS   \n",
              "4            CHIEF EXECUTIVES232  PRESIDENT MONGOLIA AND INDIA   \n",
              "\n",
              "  FULL_TIME_POSITION PREVAILING_WAGE    YEAR                 WORKSITE  \\\n",
              "0                  N           36067  20£1*6      ANN ARBOR, MICHIGAN   \n",
              "1                  Y          242674  20£1*6             PLANO, TEXAS   \n",
              "2                  Y          193066  20£1*6  JERSEY CITY, NEW JERSEY   \n",
              "3                  Y          220314  20£1*6         DENVER, COLORADO   \n",
              "4                  Y        157518.4  20£1*6      ST. LOUIS, MISSOURI   \n",
              "\n",
              "           lon         lat  \n",
              "0  -83.7430378  42.2808256  \n",
              "1  -96.6988856  33.0198431  \n",
              "2  -74.0776417  40.7281575  \n",
              "3  -104.990251  39.7392358  \n",
              "4  -90.1994042  38.6270025  "
            ]
          },
          "metadata": {
            "tags": []
          },
          "execution_count": 4
        }
      ]
    },
    {
      "metadata": {
        "id": "c62doAFLsUBK",
        "colab_type": "code",
        "outputId": "da857b1f-1d37-43f1-8cdc-1a6408ed8247",
        "colab": {
          "base_uri": "https://localhost:8080/",
          "height": 34
        }
      },
      "cell_type": "code",
      "source": [
        "data.shape"
      ],
      "execution_count": 5,
      "outputs": [
        {
          "output_type": "execute_result",
          "data": {
            "text/plain": [
              "(3002458, 11)"
            ]
          },
          "metadata": {
            "tags": []
          },
          "execution_count": 5
        }
      ]
    },
    {
      "metadata": {
        "id": "NsvzKdJKrcwr",
        "colab_type": "code",
        "outputId": "eb6228a9-3013-42dd-e741-ac9e310ee4d4",
        "colab": {
          "base_uri": "https://localhost:8080/",
          "height": 261
        }
      },
      "cell_type": "code",
      "source": [
        "data.describe()"
      ],
      "execution_count": 6,
      "outputs": [
        {
          "output_type": "execute_result",
          "data": {
            "text/html": [
              "<div>\n",
              "<style scoped>\n",
              "    .dataframe tbody tr th:only-of-type {\n",
              "        vertical-align: middle;\n",
              "    }\n",
              "\n",
              "    .dataframe tbody tr th {\n",
              "        vertical-align: top;\n",
              "    }\n",
              "\n",
              "    .dataframe thead th {\n",
              "        text-align: right;\n",
              "    }\n",
              "</style>\n",
              "<table border=\"1\" class=\"dataframe\">\n",
              "  <thead>\n",
              "    <tr style=\"text-align: right;\">\n",
              "      <th></th>\n",
              "      <th>Unnamed: 0</th>\n",
              "      <th>CASE_STATUS</th>\n",
              "      <th>EMPLOYER_NAME</th>\n",
              "      <th>SOC_NAME</th>\n",
              "      <th>JOB_TITLE</th>\n",
              "      <th>FULL_TIME_POSITION</th>\n",
              "      <th>PREVAILING_WAGE</th>\n",
              "      <th>YEAR</th>\n",
              "      <th>WORKSITE</th>\n",
              "      <th>lon</th>\n",
              "      <th>lat</th>\n",
              "    </tr>\n",
              "  </thead>\n",
              "  <tbody>\n",
              "    <tr>\n",
              "      <th>count</th>\n",
              "      <td>3002458</td>\n",
              "      <td>3002445</td>\n",
              "      <td>3002399</td>\n",
              "      <td>2984724</td>\n",
              "      <td>3002415</td>\n",
              "      <td>3002443</td>\n",
              "      <td>3002373</td>\n",
              "      <td>3002445</td>\n",
              "      <td>3002458</td>\n",
              "      <td>2895216</td>\n",
              "      <td>2895216</td>\n",
              "    </tr>\n",
              "    <tr>\n",
              "      <th>unique</th>\n",
              "      <td>3002458</td>\n",
              "      <td>8</td>\n",
              "      <td>236120</td>\n",
              "      <td>2141</td>\n",
              "      <td>287770</td>\n",
              "      <td>3</td>\n",
              "      <td>64665</td>\n",
              "      <td>9</td>\n",
              "      <td>18624</td>\n",
              "      <td>6042</td>\n",
              "      <td>4813</td>\n",
              "    </tr>\n",
              "    <tr>\n",
              "      <th>top</th>\n",
              "      <td>2099198</td>\n",
              "      <td>CERTIFIED</td>\n",
              "      <td>INFOSYS LIMITED</td>\n",
              "      <td>Computer Systems Analysts</td>\n",
              "      <td>PROGRAMMER ANALYST</td>\n",
              "      <td>Y</td>\n",
              "      <td>60000</td>\n",
              "      <td>20£1*6</td>\n",
              "      <td>NEW YORK, NEW YORK</td>\n",
              "      <td>-74.0059413</td>\n",
              "      <td>40.7127837</td>\n",
              "    </tr>\n",
              "    <tr>\n",
              "      <th>freq</th>\n",
              "      <td>1</td>\n",
              "      <td>2615623</td>\n",
              "      <td>130592</td>\n",
              "      <td>291170</td>\n",
              "      <td>249038</td>\n",
              "      <td>2576111</td>\n",
              "      <td>7686</td>\n",
              "      <td>647803</td>\n",
              "      <td>191719</td>\n",
              "      <td>150401</td>\n",
              "      <td>118209</td>\n",
              "    </tr>\n",
              "  </tbody>\n",
              "</table>\n",
              "</div>"
            ],
            "text/plain": [
              "       Unnamed: 0 CASE_STATUS    EMPLOYER_NAME                   SOC_NAME  \\\n",
              "count     3002458     3002445          3002399                    2984724   \n",
              "unique    3002458           8           236120                       2141   \n",
              "top       2099198   CERTIFIED  INFOSYS LIMITED  Computer Systems Analysts   \n",
              "freq            1     2615623           130592                     291170   \n",
              "\n",
              "                 JOB_TITLE FULL_TIME_POSITION PREVAILING_WAGE     YEAR  \\\n",
              "count              3002415            3002443         3002373  3002445   \n",
              "unique              287770                  3           64665        9   \n",
              "top     PROGRAMMER ANALYST                  Y           60000   20£1*6   \n",
              "freq                249038            2576111            7686   647803   \n",
              "\n",
              "                  WORKSITE          lon         lat  \n",
              "count              3002458      2895216     2895216  \n",
              "unique               18624         6042        4813  \n",
              "top     NEW YORK, NEW YORK  -74.0059413  40.7127837  \n",
              "freq                191719       150401      118209  "
            ]
          },
          "metadata": {
            "tags": []
          },
          "execution_count": 6
        }
      ]
    },
    {
      "metadata": {
        "id": "jRFFs_KBrcw2",
        "colab_type": "code",
        "outputId": "40b0ef98-cae6-4ee8-a6ed-d49f742f4158",
        "colab": {
          "base_uri": "https://localhost:8080/",
          "height": 85
        }
      },
      "cell_type": "code",
      "source": [
        "data.columns"
      ],
      "execution_count": 7,
      "outputs": [
        {
          "output_type": "execute_result",
          "data": {
            "text/plain": [
              "Index(['Unnamed: 0', 'CASE_STATUS', 'EMPLOYER_NAME', 'SOC_NAME', 'JOB_TITLE',\n",
              "       'FULL_TIME_POSITION', 'PREVAILING_WAGE', 'YEAR', 'WORKSITE', 'lon',\n",
              "       'lat'],\n",
              "      dtype='object')"
            ]
          },
          "metadata": {
            "tags": []
          },
          "execution_count": 7
        }
      ]
    },
    {
      "metadata": {
        "id": "5pveJSGTrcxB",
        "colab_type": "code",
        "outputId": "478d23fe-7185-4411-8271-7d3712c62e76",
        "colab": {
          "base_uri": "https://localhost:8080/",
          "height": 289
        }
      },
      "cell_type": "code",
      "source": [
        "data.info()"
      ],
      "execution_count": 8,
      "outputs": [
        {
          "output_type": "stream",
          "text": [
            "<class 'pandas.core.frame.DataFrame'>\n",
            "RangeIndex: 3002458 entries, 0 to 3002457\n",
            "Data columns (total 11 columns):\n",
            "Unnamed: 0            object\n",
            "CASE_STATUS           object\n",
            "EMPLOYER_NAME         object\n",
            "SOC_NAME              object\n",
            "JOB_TITLE             object\n",
            "FULL_TIME_POSITION    object\n",
            "PREVAILING_WAGE       object\n",
            "YEAR                  object\n",
            "WORKSITE              object\n",
            "lon                   object\n",
            "lat                   object\n",
            "dtypes: object(11)\n",
            "memory usage: 252.0+ MB\n"
          ],
          "name": "stdout"
        }
      ]
    },
    {
      "metadata": {
        "id": "cvPUKPYprcxy",
        "colab_type": "code",
        "outputId": "23046fb6-7a75-4874-9fa3-a995e39dc842",
        "colab": {
          "base_uri": "https://localhost:8080/",
          "height": 51
        }
      },
      "cell_type": "code",
      "source": [
        "data['YEAR'].unique()"
      ],
      "execution_count": 9,
      "outputs": [
        {
          "output_type": "execute_result",
          "data": {
            "text/plain": [
              "array(['20£1*6', '2015', 2015, 2014, 2013, 2012, 2011, '2011',\n",
              "       'Twenty eleven', nan], dtype=object)"
            ]
          },
          "metadata": {
            "tags": []
          },
          "execution_count": 9
        }
      ]
    },
    {
      "metadata": {
        "id": "vIeViDyprcx9",
        "colab_type": "code",
        "colab": {}
      },
      "cell_type": "code",
      "source": [
        "#stripping the unknown on year..\n",
        "#data['YEAR']=data['YEAR'].str.strip(\"\\£\")\n",
        "data['YEAR']=data['YEAR'].replace({'20£1*6':2016,'Twenty eleven':2011,'2015':2015,'2011':2011})\n",
        "data['YEAR'].fillna(data['YEAR'].mode()[0], inplace=True)\n",
        "#data.replace(np.nan,data.mode(axis=0), inplace=True)\n"
      ],
      "execution_count": 0,
      "outputs": []
    },
    {
      "metadata": {
        "id": "F_J6NiYErcyI",
        "colab_type": "code",
        "outputId": "346f9d36-6983-435c-b1f7-897601ca2dff",
        "colab": {
          "base_uri": "https://localhost:8080/",
          "height": 34
        }
      },
      "cell_type": "code",
      "source": [
        "data['YEAR'].unique()"
      ],
      "execution_count": 11,
      "outputs": [
        {
          "output_type": "execute_result",
          "data": {
            "text/plain": [
              "array([2016., 2015., 2014., 2013., 2012., 2011.])"
            ]
          },
          "metadata": {
            "tags": []
          },
          "execution_count": 11
        }
      ]
    },
    {
      "metadata": {
        "id": "snQfoQo6rcyq",
        "colab_type": "code",
        "outputId": "eb2e801d-fe7e-4e5f-ceb1-b04925a53485",
        "colab": {
          "base_uri": "https://localhost:8080/",
          "height": 289
        }
      },
      "cell_type": "code",
      "source": [
        "data.info()"
      ],
      "execution_count": 12,
      "outputs": [
        {
          "output_type": "stream",
          "text": [
            "<class 'pandas.core.frame.DataFrame'>\n",
            "RangeIndex: 3002458 entries, 0 to 3002457\n",
            "Data columns (total 11 columns):\n",
            "Unnamed: 0            object\n",
            "CASE_STATUS           object\n",
            "EMPLOYER_NAME         object\n",
            "SOC_NAME              object\n",
            "JOB_TITLE             object\n",
            "FULL_TIME_POSITION    object\n",
            "PREVAILING_WAGE       object\n",
            "YEAR                  float64\n",
            "WORKSITE              object\n",
            "lon                   object\n",
            "lat                   object\n",
            "dtypes: float64(1), object(10)\n",
            "memory usage: 252.0+ MB\n"
          ],
          "name": "stdout"
        }
      ]
    },
    {
      "metadata": {
        "id": "BxTHVKH-rcy7",
        "colab_type": "code",
        "outputId": "6637c969-d642-4a9e-dcd8-205e9be87294",
        "colab": {
          "base_uri": "https://localhost:8080/",
          "height": 34
        }
      },
      "cell_type": "code",
      "source": [
        "data['YEAR'].unique()"
      ],
      "execution_count": 13,
      "outputs": [
        {
          "output_type": "execute_result",
          "data": {
            "text/plain": [
              "array([2016., 2015., 2014., 2013., 2012., 2011.])"
            ]
          },
          "metadata": {
            "tags": []
          },
          "execution_count": 13
        }
      ]
    },
    {
      "metadata": {
        "id": "jA4oEMfTrczW",
        "colab_type": "code",
        "colab": {}
      },
      "cell_type": "code",
      "source": [
        "# date time series...\n",
        "#data['YEAR']=data['YEAR'].astype('str')\n",
        "#data['YEAR']=pd.to_datetime(data['YEAR'])"
      ],
      "execution_count": 0,
      "outputs": []
    },
    {
      "metadata": {
        "id": "rCsr0Zlkrczg",
        "colab_type": "code",
        "outputId": "dd20582c-2749-47c9-9e30-1f313e91ba19",
        "colab": {
          "base_uri": "https://localhost:8080/",
          "height": 462
        }
      },
      "cell_type": "code",
      "source": [
        "data.head(5)"
      ],
      "execution_count": 15,
      "outputs": [
        {
          "output_type": "execute_result",
          "data": {
            "text/html": [
              "<div>\n",
              "<style scoped>\n",
              "    .dataframe tbody tr th:only-of-type {\n",
              "        vertical-align: middle;\n",
              "    }\n",
              "\n",
              "    .dataframe tbody tr th {\n",
              "        vertical-align: top;\n",
              "    }\n",
              "\n",
              "    .dataframe thead th {\n",
              "        text-align: right;\n",
              "    }\n",
              "</style>\n",
              "<table border=\"1\" class=\"dataframe\">\n",
              "  <thead>\n",
              "    <tr style=\"text-align: right;\">\n",
              "      <th></th>\n",
              "      <th>Unnamed: 0</th>\n",
              "      <th>CASE_STATUS</th>\n",
              "      <th>EMPLOYER_NAME</th>\n",
              "      <th>SOC_NAME</th>\n",
              "      <th>JOB_TITLE</th>\n",
              "      <th>FULL_TIME_POSITION</th>\n",
              "      <th>PREVAILING_WAGE</th>\n",
              "      <th>YEAR</th>\n",
              "      <th>WORKSITE</th>\n",
              "      <th>lon</th>\n",
              "      <th>lat</th>\n",
              "    </tr>\n",
              "  </thead>\n",
              "  <tbody>\n",
              "    <tr>\n",
              "      <th>0</th>\n",
              "      <td>1</td>\n",
              "      <td>CERTIFIED-WITHDRAWN</td>\n",
              "      <td>UNIVERSITY OF MICHIGAN</td>\n",
              "      <td>BIOCHEMISTS AND BIOPHYSICISTS</td>\n",
              "      <td>POSTDOCTORAL RESEARCH FELLOW</td>\n",
              "      <td>N</td>\n",
              "      <td>36067</td>\n",
              "      <td>2016.0</td>\n",
              "      <td>ANN ARBOR, MICHIGAN</td>\n",
              "      <td>-83.7430378</td>\n",
              "      <td>42.2808256</td>\n",
              "    </tr>\n",
              "    <tr>\n",
              "      <th>1</th>\n",
              "      <td>2</td>\n",
              "      <td>CERTIFIED-WITHDRAWN</td>\n",
              "      <td>GOODMAN NETWORKS, INC.</td>\n",
              "      <td>CHIEF EXECUTIVES232</td>\n",
              "      <td>CHIEF OPERATING OFFICER</td>\n",
              "      <td>Y</td>\n",
              "      <td>242674</td>\n",
              "      <td>2016.0</td>\n",
              "      <td>PLANO, TEXAS</td>\n",
              "      <td>-96.6988856</td>\n",
              "      <td>33.0198431</td>\n",
              "    </tr>\n",
              "    <tr>\n",
              "      <th>2</th>\n",
              "      <td>3</td>\n",
              "      <td>CERTIFIED-WITHDRAWN</td>\n",
              "      <td>PORTS AMERICA GROUP, INC.</td>\n",
              "      <td>CHIEF EXECUTIVES232</td>\n",
              "      <td>CHIEF PROCESS OFFICER</td>\n",
              "      <td>Y</td>\n",
              "      <td>193066</td>\n",
              "      <td>2016.0</td>\n",
              "      <td>JERSEY CITY, NEW JERSEY</td>\n",
              "      <td>-74.0776417</td>\n",
              "      <td>40.7281575</td>\n",
              "    </tr>\n",
              "    <tr>\n",
              "      <th>3</th>\n",
              "      <td>4</td>\n",
              "      <td>CERTIFIED-WITHDRAWN</td>\n",
              "      <td>GATES CORPORATION, A WHOLLY-OWNED SUBSIDIARY O...</td>\n",
              "      <td>CHIEF EXECUTIVES232</td>\n",
              "      <td>REGIONAL PRESIDEN, AMERICAS</td>\n",
              "      <td>Y</td>\n",
              "      <td>220314</td>\n",
              "      <td>2016.0</td>\n",
              "      <td>DENVER, COLORADO</td>\n",
              "      <td>-104.990251</td>\n",
              "      <td>39.7392358</td>\n",
              "    </tr>\n",
              "    <tr>\n",
              "      <th>4</th>\n",
              "      <td>5</td>\n",
              "      <td>WITHDRAWN</td>\n",
              "      <td>PEABODY INVESTMENTS CORP.</td>\n",
              "      <td>CHIEF EXECUTIVES232</td>\n",
              "      <td>PRESIDENT MONGOLIA AND INDIA</td>\n",
              "      <td>Y</td>\n",
              "      <td>157518.4</td>\n",
              "      <td>2016.0</td>\n",
              "      <td>ST. LOUIS, MISSOURI</td>\n",
              "      <td>-90.1994042</td>\n",
              "      <td>38.6270025</td>\n",
              "    </tr>\n",
              "  </tbody>\n",
              "</table>\n",
              "</div>"
            ],
            "text/plain": [
              "  Unnamed: 0          CASE_STATUS  \\\n",
              "0          1  CERTIFIED-WITHDRAWN   \n",
              "1          2  CERTIFIED-WITHDRAWN   \n",
              "2          3  CERTIFIED-WITHDRAWN   \n",
              "3          4  CERTIFIED-WITHDRAWN   \n",
              "4          5            WITHDRAWN   \n",
              "\n",
              "                                       EMPLOYER_NAME  \\\n",
              "0                             UNIVERSITY OF MICHIGAN   \n",
              "1                             GOODMAN NETWORKS, INC.   \n",
              "2                          PORTS AMERICA GROUP, INC.   \n",
              "3  GATES CORPORATION, A WHOLLY-OWNED SUBSIDIARY O...   \n",
              "4                          PEABODY INVESTMENTS CORP.   \n",
              "\n",
              "                        SOC_NAME                     JOB_TITLE  \\\n",
              "0  BIOCHEMISTS AND BIOPHYSICISTS  POSTDOCTORAL RESEARCH FELLOW   \n",
              "1            CHIEF EXECUTIVES232       CHIEF OPERATING OFFICER   \n",
              "2            CHIEF EXECUTIVES232         CHIEF PROCESS OFFICER   \n",
              "3            CHIEF EXECUTIVES232   REGIONAL PRESIDEN, AMERICAS   \n",
              "4            CHIEF EXECUTIVES232  PRESIDENT MONGOLIA AND INDIA   \n",
              "\n",
              "  FULL_TIME_POSITION PREVAILING_WAGE    YEAR                 WORKSITE  \\\n",
              "0                  N           36067  2016.0      ANN ARBOR, MICHIGAN   \n",
              "1                  Y          242674  2016.0             PLANO, TEXAS   \n",
              "2                  Y          193066  2016.0  JERSEY CITY, NEW JERSEY   \n",
              "3                  Y          220314  2016.0         DENVER, COLORADO   \n",
              "4                  Y        157518.4  2016.0      ST. LOUIS, MISSOURI   \n",
              "\n",
              "           lon         lat  \n",
              "0  -83.7430378  42.2808256  \n",
              "1  -96.6988856  33.0198431  \n",
              "2  -74.0776417  40.7281575  \n",
              "3  -104.990251  39.7392358  \n",
              "4  -90.1994042  38.6270025  "
            ]
          },
          "metadata": {
            "tags": []
          },
          "execution_count": 15
        }
      ]
    },
    {
      "metadata": {
        "scrolled": true,
        "id": "cvObY8K4rczx",
        "colab_type": "code",
        "outputId": "2a1617e7-c93e-43f3-e3db-f13f3ad67100",
        "colab": {
          "base_uri": "https://localhost:8080/",
          "height": 221
        }
      },
      "cell_type": "code",
      "source": [
        "data.isnull().sum()"
      ],
      "execution_count": 16,
      "outputs": [
        {
          "output_type": "execute_result",
          "data": {
            "text/plain": [
              "Unnamed: 0                 0\n",
              "CASE_STATUS               13\n",
              "EMPLOYER_NAME             59\n",
              "SOC_NAME               17734\n",
              "JOB_TITLE                 43\n",
              "FULL_TIME_POSITION        15\n",
              "PREVAILING_WAGE           85\n",
              "YEAR                       0\n",
              "WORKSITE                   0\n",
              "lon                   107242\n",
              "lat                   107242\n",
              "dtype: int64"
            ]
          },
          "metadata": {
            "tags": []
          },
          "execution_count": 16
        }
      ]
    },
    {
      "metadata": {
        "id": "_Rdy6gh4rc1T",
        "colab_type": "code",
        "outputId": "15724a1b-7395-4e02-ff29-ac26091f4b7c",
        "colab": {
          "base_uri": "https://localhost:8080/",
          "height": 289
        }
      },
      "cell_type": "code",
      "source": [
        "data.info()"
      ],
      "execution_count": 17,
      "outputs": [
        {
          "output_type": "stream",
          "text": [
            "<class 'pandas.core.frame.DataFrame'>\n",
            "RangeIndex: 3002458 entries, 0 to 3002457\n",
            "Data columns (total 11 columns):\n",
            "Unnamed: 0            object\n",
            "CASE_STATUS           object\n",
            "EMPLOYER_NAME         object\n",
            "SOC_NAME              object\n",
            "JOB_TITLE             object\n",
            "FULL_TIME_POSITION    object\n",
            "PREVAILING_WAGE       object\n",
            "YEAR                  float64\n",
            "WORKSITE              object\n",
            "lon                   object\n",
            "lat                   object\n",
            "dtypes: float64(1), object(10)\n",
            "memory usage: 252.0+ MB\n"
          ],
          "name": "stdout"
        }
      ]
    },
    {
      "metadata": {
        "id": "Ed5VEqS7rc1f",
        "colab_type": "code",
        "outputId": "e1ce3d76-8681-4388-fd55-6852ae950e22",
        "colab": {
          "base_uri": "https://localhost:8080/",
          "height": 34
        }
      },
      "cell_type": "code",
      "source": [
        "data.shape"
      ],
      "execution_count": 18,
      "outputs": [
        {
          "output_type": "execute_result",
          "data": {
            "text/plain": [
              "(3002458, 11)"
            ]
          },
          "metadata": {
            "tags": []
          },
          "execution_count": 18
        }
      ]
    },
    {
      "metadata": {
        "id": "Sld6TJ8Drc2g",
        "colab_type": "code",
        "outputId": "007eab76-7fd0-4928-9ee5-3b18e5ea80b4",
        "colab": {
          "base_uri": "https://localhost:8080/",
          "height": 170
        }
      },
      "cell_type": "code",
      "source": [
        "data['CASE_STATUS'].value_counts()"
      ],
      "execution_count": 19,
      "outputs": [
        {
          "output_type": "execute_result",
          "data": {
            "text/plain": [
              "CERTIFIED                                             2615623\n",
              "CERTIFIED-WITHDRAWN                                    201708\n",
              "DENIED                                                  94346\n",
              "WITHDRAWN                                               89799\n",
              "CERTIFIED-+--WITHDRAWN                                    951\n",
              "PENDING QUALITY AND COMPLIANCE REVIEW - UNASSIGNED         15\n",
              "REJECTED                                                    2\n",
              "INVALIDATED                                                 1\n",
              "Name: CASE_STATUS, dtype: int64"
            ]
          },
          "metadata": {
            "tags": []
          },
          "execution_count": 19
        }
      ]
    },
    {
      "metadata": {
        "id": "FD2zDBPorc2u",
        "colab_type": "code",
        "colab": {}
      },
      "cell_type": "code",
      "source": [
        "data['CASE_STATUS']=data['CASE_STATUS'].replace({'CERTIFIED-+--WITHDRAWN':'CERTIFIED-WITHDRAWN','Twenty eleven':'2011'})\n",
        "data['CASE_STATUS'].fillna(data['CASE_STATUS'].mode()[0], inplace=True)"
      ],
      "execution_count": 0,
      "outputs": []
    },
    {
      "metadata": {
        "id": "O8eKwXcYrc21",
        "colab_type": "code",
        "outputId": "be7b4edf-23a0-458e-a8c7-da5a2f566f21",
        "colab": {
          "base_uri": "https://localhost:8080/",
          "height": 153
        }
      },
      "cell_type": "code",
      "source": [
        "data['CASE_STATUS'].value_counts()"
      ],
      "execution_count": 21,
      "outputs": [
        {
          "output_type": "execute_result",
          "data": {
            "text/plain": [
              "CERTIFIED                                             2615636\n",
              "CERTIFIED-WITHDRAWN                                    202659\n",
              "DENIED                                                  94346\n",
              "WITHDRAWN                                               89799\n",
              "PENDING QUALITY AND COMPLIANCE REVIEW - UNASSIGNED         15\n",
              "REJECTED                                                    2\n",
              "INVALIDATED                                                 1\n",
              "Name: CASE_STATUS, dtype: int64"
            ]
          },
          "metadata": {
            "tags": []
          },
          "execution_count": 21
        }
      ]
    },
    {
      "metadata": {
        "id": "HIeWNXQNrc3a",
        "colab_type": "code",
        "outputId": "c9711b75-69d0-4872-d9e8-70ae0b9f716c",
        "colab": {
          "base_uri": "https://localhost:8080/",
          "height": 34
        }
      },
      "cell_type": "code",
      "source": [
        "data['EMPLOYER_NAME'].nunique()"
      ],
      "execution_count": 22,
      "outputs": [
        {
          "output_type": "execute_result",
          "data": {
            "text/plain": [
              "236120"
            ]
          },
          "metadata": {
            "tags": []
          },
          "execution_count": 22
        }
      ]
    },
    {
      "metadata": {
        "id": "0-t_VFpYrc3y",
        "colab_type": "code",
        "colab": {}
      },
      "cell_type": "code",
      "source": [
        "data=data[data['EMPLOYER_NAME'].notnull()] # dropping all nulls\n"
      ],
      "execution_count": 0,
      "outputs": []
    },
    {
      "metadata": {
        "id": "EGlgG4U-rc4A",
        "colab_type": "code",
        "colab": {}
      },
      "cell_type": "code",
      "source": [
        "data['SOC_NAME'].nunique()\n",
        "data=data[data['SOC_NAME'].notnull()]"
      ],
      "execution_count": 0,
      "outputs": []
    },
    {
      "metadata": {
        "id": "Lez9FRPOrc4N",
        "colab_type": "code",
        "colab": {}
      },
      "cell_type": "code",
      "source": [
        "data['JOB_TITLE'].nunique()\n",
        "data=data[data['JOB_TITLE'].notnull()]"
      ],
      "execution_count": 0,
      "outputs": []
    },
    {
      "metadata": {
        "id": "iWhf-Lfrrc5A",
        "colab_type": "code",
        "colab": {}
      },
      "cell_type": "code",
      "source": [
        "data=data[data['FULL_TIME_POSITION'].notnull()]"
      ],
      "execution_count": 0,
      "outputs": []
    },
    {
      "metadata": {
        "scrolled": false,
        "id": "rxItv1gtrc5L",
        "colab_type": "code",
        "outputId": "303ab621-2050-4562-bb36-0f59bcb7eeac",
        "colab": {
          "base_uri": "https://localhost:8080/",
          "height": 221
        }
      },
      "cell_type": "code",
      "source": [
        "data.isnull().sum()"
      ],
      "execution_count": 27,
      "outputs": [
        {
          "output_type": "execute_result",
          "data": {
            "text/plain": [
              "Unnamed: 0                 0\n",
              "CASE_STATUS                0\n",
              "EMPLOYER_NAME              0\n",
              "SOC_NAME                   0\n",
              "JOB_TITLE                  0\n",
              "FULL_TIME_POSITION         0\n",
              "PREVAILING_WAGE           63\n",
              "YEAR                       0\n",
              "WORKSITE                   0\n",
              "lon                   106853\n",
              "lat                   106853\n",
              "dtype: int64"
            ]
          },
          "metadata": {
            "tags": []
          },
          "execution_count": 27
        }
      ]
    },
    {
      "metadata": {
        "id": "tgf7kv_Jrc5V",
        "colab_type": "code",
        "outputId": "da48025b-121c-4ef2-ec4c-cca078f12072",
        "colab": {
          "base_uri": "https://localhost:8080/",
          "height": 34
        }
      },
      "cell_type": "code",
      "source": [
        "data.shape"
      ],
      "execution_count": 28,
      "outputs": [
        {
          "output_type": "execute_result",
          "data": {
            "text/plain": [
              "(2984672, 11)"
            ]
          },
          "metadata": {
            "tags": []
          },
          "execution_count": 28
        }
      ]
    },
    {
      "metadata": {
        "id": "CBYnEQ5Trc5r",
        "colab_type": "code",
        "outputId": "29db20a2-d269-4d2f-dccc-38faef36003f",
        "colab": {
          "base_uri": "https://localhost:8080/",
          "height": 34
        }
      },
      "cell_type": "code",
      "source": [
        "data['SOC_NAME'].nunique()"
      ],
      "execution_count": 29,
      "outputs": [
        {
          "output_type": "execute_result",
          "data": {
            "text/plain": [
              "2141"
            ]
          },
          "metadata": {
            "tags": []
          },
          "execution_count": 29
        }
      ]
    },
    {
      "metadata": {
        "id": "c3DNbvkCrc6F",
        "colab_type": "code",
        "colab": {}
      },
      "cell_type": "code",
      "source": [
        "data['PREVAILING_WAGE'] = data['PREVAILING_WAGE'].astype(str).str.replace('\\£', '')\n",
        "data['PREVAILING_WAGE'] = data['PREVAILING_WAGE'].astype(str).str.replace('\\*', '')\n",
        "data['PREVAILING_WAGE']=data['PREVAILING_WAGE'].replace({'3Twenty eleven':'32011'})"
      ],
      "execution_count": 0,
      "outputs": []
    },
    {
      "metadata": {
        "id": "HTNO4Fn-rc6P",
        "colab_type": "code",
        "colab": {}
      },
      "cell_type": "code",
      "source": [
        "data['PREVAILING_WAGE']=data['PREVAILING_WAGE'].astype('float')"
      ],
      "execution_count": 0,
      "outputs": []
    },
    {
      "metadata": {
        "id": "hHm34tWNrc6V",
        "colab_type": "code",
        "colab": {}
      },
      "cell_type": "code",
      "source": [
        "data['PREVAILING_WAGE'].fillna(data['PREVAILING_WAGE'].median(), inplace=True)"
      ],
      "execution_count": 0,
      "outputs": []
    },
    {
      "metadata": {
        "id": "Nzpb648lrc6f",
        "colab_type": "code",
        "colab": {}
      },
      "cell_type": "code",
      "source": [
        "data['SOC_NAME']=data['SOC_NAME'].dropna(axis=0)"
      ],
      "execution_count": 0,
      "outputs": []
    },
    {
      "metadata": {
        "id": "09k102qerc6m",
        "colab_type": "code",
        "colab": {}
      },
      "cell_type": "code",
      "source": [
        "data['JOB_TITLE']=data['JOB_TITLE'].dropna(axis=0)"
      ],
      "execution_count": 0,
      "outputs": []
    },
    {
      "metadata": {
        "scrolled": true,
        "id": "EzH8zfwPrc67",
        "colab_type": "code",
        "outputId": "e3c81fe5-d41b-413f-b001-3e66296447b7",
        "colab": {
          "base_uri": "https://localhost:8080/",
          "height": 85
        }
      },
      "cell_type": "code",
      "source": [
        "data['FULL_TIME_POSITION'].value_counts()\n"
      ],
      "execution_count": 35,
      "outputs": [
        {
          "output_type": "execute_result",
          "data": {
            "text/plain": [
              "Y     2558458\n",
              "N      425802\n",
              "No        412\n",
              "Name: FULL_TIME_POSITION, dtype: int64"
            ]
          },
          "metadata": {
            "tags": []
          },
          "execution_count": 35
        }
      ]
    },
    {
      "metadata": {
        "id": "OW7R0X4urc7D",
        "colab_type": "code",
        "colab": {}
      },
      "cell_type": "code",
      "source": [
        "data['FULL_TIME_POSITION']=data['FULL_TIME_POSITION'].replace({'No':'N'})\n",
        "#data['FULL_TIME_POSITION'].replace(np.nan,data['FULL_TIME_POSITION'].mode,inplace=True)"
      ],
      "execution_count": 0,
      "outputs": []
    },
    {
      "metadata": {
        "id": "JpqdbGRTrc7L",
        "colab_type": "code",
        "outputId": "90689473-4138-4daa-aba9-3fbdb3e9017a",
        "colab": {
          "base_uri": "https://localhost:8080/",
          "height": 68
        }
      },
      "cell_type": "code",
      "source": [
        "data['FULL_TIME_POSITION'].value_counts()"
      ],
      "execution_count": 37,
      "outputs": [
        {
          "output_type": "execute_result",
          "data": {
            "text/plain": [
              "Y    2558458\n",
              "N     426214\n",
              "Name: FULL_TIME_POSITION, dtype: int64"
            ]
          },
          "metadata": {
            "tags": []
          },
          "execution_count": 37
        }
      ]
    },
    {
      "metadata": {
        "id": "fH3uLA5Yrc7Z",
        "colab_type": "code",
        "colab": {}
      },
      "cell_type": "code",
      "source": [
        "## Filling na in JOB_TITLE and FULL_TIME_POSITION with mode\n",
        "#df['JOB_TITLE'] = df['JOB_TITLE'].fillna(df['JOB_TITLE'].mode()[0])\n",
        "#df['FULL_TIME_POSITION'] = df['FULL_TIME_POSITION'].fillna(df['FULL_TIME_POSITION'].mode()[0])\n",
        "#df['SOC_NAME'] = df['SOC_NAME'].fillna(df['SOC_NAME'].mode()[0])"
      ],
      "execution_count": 0,
      "outputs": []
    },
    {
      "metadata": {
        "id": "qqN84M-Wrc7k",
        "colab_type": "code",
        "outputId": "937ff61e-dd62-4f18-f20a-12bb4ccb4f4c",
        "colab": {
          "base_uri": "https://localhost:8080/",
          "height": 119
        }
      },
      "cell_type": "code",
      "source": [
        "data['EMPLOYER_NAME'].head()"
      ],
      "execution_count": 39,
      "outputs": [
        {
          "output_type": "execute_result",
          "data": {
            "text/plain": [
              "0                               UNIVERSITY OF MICHIGAN\n",
              "1                               GOODMAN NETWORKS, INC.\n",
              "2                            PORTS AMERICA GROUP, INC.\n",
              "3    GATES CORPORATION, A WHOLLY-OWNED SUBSIDIARY O...\n",
              "4                            PEABODY INVESTMENTS CORP.\n",
              "Name: EMPLOYER_NAME, dtype: object"
            ]
          },
          "metadata": {
            "tags": []
          },
          "execution_count": 39
        }
      ]
    },
    {
      "metadata": {
        "id": "rQ9WSg-orc7w",
        "colab_type": "text"
      },
      "cell_type": "markdown",
      "source": [
        "### Feature Creation-EMPLOYER_NAME"
      ]
    },
    {
      "metadata": {
        "id": "z9GXe1DSrc7y",
        "colab_type": "code",
        "outputId": "f234438e-9d1d-4593-b895-77132dd384f4",
        "colab": {
          "base_uri": "https://localhost:8080/",
          "height": 34
        }
      },
      "cell_type": "code",
      "source": [
        "data['NEW_EMPLOYER']=np.nan  #creating a new columns with nan...\n",
        "data.shape"
      ],
      "execution_count": 40,
      "outputs": [
        {
          "output_type": "execute_result",
          "data": {
            "text/plain": [
              "(2984672, 12)"
            ]
          },
          "metadata": {
            "tags": []
          },
          "execution_count": 40
        }
      ]
    },
    {
      "metadata": {
        "id": "0nSTYT4crc8C",
        "colab_type": "code",
        "colab": {}
      },
      "cell_type": "code",
      "source": [
        "#categorizating employee as university n none university\n",
        "warnings.filterwarnings(\"ignore\")\n",
        "data['EMPLOYER_NAME'] = data['EMPLOYER_NAME'].str.lower()\n",
        "data.NEW_EMPLOYER[data['EMPLOYER_NAME'].str.contains('university')] = 'University'\n",
        "data['NEW_EMPLOYER']= data.NEW_EMPLOYER.replace(np.nan, 'Non University', regex=True)"
      ],
      "execution_count": 0,
      "outputs": []
    },
    {
      "metadata": {
        "id": "a1Yy3HVSrc8K",
        "colab_type": "code",
        "outputId": "43a5d38b-adf4-45d5-d038-ce5cd82d3970",
        "colab": {
          "base_uri": "https://localhost:8080/",
          "height": 119
        }
      },
      "cell_type": "code",
      "source": [
        "data['NEW_EMPLOYER'].head(5)"
      ],
      "execution_count": 42,
      "outputs": [
        {
          "output_type": "execute_result",
          "data": {
            "text/plain": [
              "0        University\n",
              "1    Non University\n",
              "2    Non University\n",
              "3    Non University\n",
              "4    Non University\n",
              "Name: NEW_EMPLOYER, dtype: object"
            ]
          },
          "metadata": {
            "tags": []
          },
          "execution_count": 42
        }
      ]
    },
    {
      "metadata": {
        "id": "w_afh-uIrc8S",
        "colab_type": "code",
        "colab": {}
      },
      "cell_type": "code",
      "source": [
        "# Creating occupation and mapping the values\n",
        "warnings.filterwarnings(\"ignore\")\n",
        "\n",
        "data['OCCUPATION'] = np.nan\n",
        "data['SOC_NAME'] = data['SOC_NAME'].str.lower()\n",
        "data.OCCUPATION[data['SOC_NAME'].str.contains('computer','programmer')] = 'computer occupations'\n",
        "data.OCCUPATION[data['SOC_NAME'].str.contains('software','web developer')] = 'computer occupations'\n",
        "data.OCCUPATION[data['SOC_NAME'].str.contains('database')] = 'computer occupations'\n",
        "data.OCCUPATION[data['SOC_NAME'].str.contains('math','statistic')] = 'Mathematical Occupations'\n",
        "data.OCCUPATION[data['SOC_NAME'].str.contains('predictive model','stats')] = 'Mathematical Occupations'\n",
        "data.OCCUPATION[data['SOC_NAME'].str.contains('teacher','linguist')] = 'Education Occupations'\n",
        "data.OCCUPATION[data['SOC_NAME'].str.contains('professor','Teach')] = 'Education Occupations'\n",
        "data.OCCUPATION[data['SOC_NAME'].str.contains('school principal')] = 'Education Occupations'\n",
        "data.OCCUPATION[data['SOC_NAME'].str.contains('medical','doctor')] = 'Medical Occupations'\n",
        "data.OCCUPATION[data['SOC_NAME'].str.contains('physician','dentist')] = 'Medical Occupations'\n",
        "data.OCCUPATION[data['SOC_NAME'].str.contains('Health','Physical Therapists')] = 'Medical Occupations'\n",
        "data.OCCUPATION[data['SOC_NAME'].str.contains('surgeon','nurse')] = 'Medical Occupations'\n",
        "data.OCCUPATION[data['SOC_NAME'].str.contains('psychiatr')] = 'Medical Occupations'\n",
        "data.OCCUPATION[data['SOC_NAME'].str.contains('chemist','physicist')] = 'Advance Sciences'\n",
        "data.OCCUPATION[data['SOC_NAME'].str.contains('biology','scientist')] = 'Advance Sciences'\n",
        "data.OCCUPATION[data['SOC_NAME'].str.contains('biologi','clinical research')] = 'Advance Sciences'\n",
        "data.OCCUPATION[data['SOC_NAME'].str.contains('public relation','manage')] = 'Management Occupation'\n",
        "data.OCCUPATION[data['SOC_NAME'].str.contains('management','operation')] = 'Management Occupation'\n",
        "data.OCCUPATION[data['SOC_NAME'].str.contains('chief','plan')] = 'Management Occupation'\n",
        "data.OCCUPATION[data['SOC_NAME'].str.contains('executive')] = 'Management Occupation'\n",
        "data.OCCUPATION[data['SOC_NAME'].str.contains('advertis','marketing')] = 'Marketing Occupation'\n",
        "data.OCCUPATION[data['SOC_NAME'].str.contains('promotion','market research')] = 'Marketing Occupation'\n",
        "data.OCCUPATION[data['SOC_NAME'].str.contains('business','business analyst')] = 'Business Occupation'\n",
        "data.OCCUPATION[data['SOC_NAME'].str.contains('business systems analyst')] = 'Business Occupation'\n",
        "data.OCCUPATION[data['SOC_NAME'].str.contains('accountant','finance')] = 'Financial Occupation'\n",
        "data.OCCUPATION[data['SOC_NAME'].str.contains('financial')] = 'Financial Occupation'\n",
        "data.OCCUPATION[data['SOC_NAME'].str.contains('engineer','architect')] = 'Architecture & Engineering'\n",
        "data.OCCUPATION[data['SOC_NAME'].str.contains('surveyor','carto')] = 'Architecture & Engineering'\n",
        "data.OCCUPATION[data['SOC_NAME'].str.contains('technician','drafter')] = 'Architecture & Engineering'\n",
        "data.OCCUPATION[data['SOC_NAME'].str.contains('information security','information tech')] = 'Architecture & Engineering'\n",
        "data['OCCUPATION']= data.OCCUPATION.replace(np.nan, 'Others', regex=True)"
      ],
      "execution_count": 0,
      "outputs": []
    },
    {
      "metadata": {
        "scrolled": true,
        "id": "xSJ96pNZrc8e",
        "colab_type": "code",
        "colab": {}
      },
      "cell_type": "code",
      "source": [
        "# data.PREVAILING_WAGE.apply(lambda x: x.strip('£'))"
      ],
      "execution_count": 0,
      "outputs": []
    },
    {
      "metadata": {
        "id": "WU3vVGiGrc8s",
        "colab_type": "code",
        "outputId": "2286d519-ea9a-4cae-84c2-23d105d5165c",
        "colab": {
          "base_uri": "https://localhost:8080/",
          "height": 34
        }
      },
      "cell_type": "code",
      "source": [
        "data['OCCUPATION'].nunique()"
      ],
      "execution_count": 45,
      "outputs": [
        {
          "output_type": "execute_result",
          "data": {
            "text/plain": [
              "11"
            ]
          },
          "metadata": {
            "tags": []
          },
          "execution_count": 45
        }
      ]
    },
    {
      "metadata": {
        "id": "dARFTzNarc9S",
        "colab_type": "code",
        "colab": {}
      },
      "cell_type": "code",
      "source": [
        ""
      ],
      "execution_count": 0,
      "outputs": []
    },
    {
      "metadata": {
        "id": "VRmKz78urc9W",
        "colab_type": "code",
        "colab": {}
      },
      "cell_type": "code",
      "source": [
        "#data['PREVAILING_WAGE']=data['PREVAILING_WAGE'].replace({'420£1*6':'42016','1720£1*6':'172016'})"
      ],
      "execution_count": 0,
      "outputs": []
    },
    {
      "metadata": {
        "id": "N5RUiZThrc9e",
        "colab_type": "code",
        "colab": {}
      },
      "cell_type": "code",
      "source": [
        "#data['PREVAILING_WAGE']=data['PREVAILING_WAGE'].str.strip({\"*\",\"£\"}).astype('float')\n"
      ],
      "execution_count": 0,
      "outputs": []
    },
    {
      "metadata": {
        "id": "qM8FVXMGrc9o",
        "colab_type": "code",
        "outputId": "fa97a7bc-1b51-462b-a598-e2d02d8a8021",
        "colab": {
          "base_uri": "https://localhost:8080/",
          "height": 323
        }
      },
      "cell_type": "code",
      "source": [
        "data.info()"
      ],
      "execution_count": 47,
      "outputs": [
        {
          "output_type": "stream",
          "text": [
            "<class 'pandas.core.frame.DataFrame'>\n",
            "Int64Index: 2984672 entries, 0 to 3002444\n",
            "Data columns (total 13 columns):\n",
            "Unnamed: 0            object\n",
            "CASE_STATUS           object\n",
            "EMPLOYER_NAME         object\n",
            "SOC_NAME              object\n",
            "JOB_TITLE             object\n",
            "FULL_TIME_POSITION    object\n",
            "PREVAILING_WAGE       float64\n",
            "YEAR                  float64\n",
            "WORKSITE              object\n",
            "lon                   object\n",
            "lat                   object\n",
            "NEW_EMPLOYER          object\n",
            "OCCUPATION            object\n",
            "dtypes: float64(2), object(11)\n",
            "memory usage: 318.8+ MB\n"
          ],
          "name": "stdout"
        }
      ]
    },
    {
      "metadata": {
        "id": "zv_7xEG7rc9u",
        "colab_type": "code",
        "outputId": "be222493-26fc-4520-de9f-d3b45b3cca6a",
        "colab": {
          "base_uri": "https://localhost:8080/",
          "height": 255
        }
      },
      "cell_type": "code",
      "source": [
        "data.isnull().sum()"
      ],
      "execution_count": 48,
      "outputs": [
        {
          "output_type": "execute_result",
          "data": {
            "text/plain": [
              "Unnamed: 0                 0\n",
              "CASE_STATUS                0\n",
              "EMPLOYER_NAME              0\n",
              "SOC_NAME                   0\n",
              "JOB_TITLE                  0\n",
              "FULL_TIME_POSITION         0\n",
              "PREVAILING_WAGE            0\n",
              "YEAR                       0\n",
              "WORKSITE                   0\n",
              "lon                   106853\n",
              "lat                   106853\n",
              "NEW_EMPLOYER               0\n",
              "OCCUPATION                 0\n",
              "dtype: int64"
            ]
          },
          "metadata": {
            "tags": []
          },
          "execution_count": 48
        }
      ]
    },
    {
      "metadata": {
        "id": "pgx4aA_Trc90",
        "colab_type": "code",
        "outputId": "37524432-2058-402d-f0fd-de8de3b5d7c1",
        "colab": {
          "base_uri": "https://localhost:8080/",
          "height": 1071
        }
      },
      "cell_type": "code",
      "source": [
        "data['PREVAILING_WAGE'].sort_values(ascending=False)"
      ],
      "execution_count": 49,
      "outputs": [
        {
          "output_type": "execute_result",
          "data": {
            "text/plain": [
              "2163248    6.997607e+09\n",
              "2797982    1.007814e+09\n",
              "1673867    8.201323e+08\n",
              "1819718    7.099999e+08\n",
              "2775906    6.579000e+08\n",
              "1547574    6.169317e+08\n",
              "1668384    4.134726e+08\n",
              "1805875    4.103154e+08\n",
              "2796071    4.066379e+08\n",
              "1698325    3.893760e+08\n",
              "2586866    3.783437e+08\n",
              "1780069    3.610381e+08\n",
              "2184108    3.487515e+08\n",
              "2190087    3.487515e+08\n",
              "2191003    3.487515e+08\n",
              "2522246    3.461120e+08\n",
              "2685667    3.461120e+08\n",
              "2921196    3.403587e+08\n",
              "5579       3.291392e+08\n",
              "2831024    3.213226e+08\n",
              "2054920    3.196544e+08\n",
              "633103     3.118045e+08\n",
              "2989391    3.077360e+08\n",
              "774072     3.067418e+08\n",
              "1899911    3.067418e+08\n",
              "813742     3.067418e+08\n",
              "2905942    3.060491e+08\n",
              "2255296    2.980016e+08\n",
              "2588156    2.976126e+08\n",
              "1863135    2.962710e+08\n",
              "               ...     \n",
              "612561     3.500000e+01\n",
              "2610782    3.169000e+01\n",
              "2258453    1.516000e+01\n",
              "739877     0.000000e+00\n",
              "953670     0.000000e+00\n",
              "1347360    0.000000e+00\n",
              "643550     0.000000e+00\n",
              "1260314    0.000000e+00\n",
              "1660781    0.000000e+00\n",
              "611582     0.000000e+00\n",
              "620654     0.000000e+00\n",
              "7500       0.000000e+00\n",
              "595704     0.000000e+00\n",
              "223687     0.000000e+00\n",
              "1678114    0.000000e+00\n",
              "52503      0.000000e+00\n",
              "2947129    0.000000e+00\n",
              "885747     0.000000e+00\n",
              "1090638    0.000000e+00\n",
              "644649     0.000000e+00\n",
              "677393     0.000000e+00\n",
              "57485      0.000000e+00\n",
              "2615462    0.000000e+00\n",
              "193690     0.000000e+00\n",
              "1069657    0.000000e+00\n",
              "569245     0.000000e+00\n",
              "2864463    0.000000e+00\n",
              "22307      0.000000e+00\n",
              "535857     0.000000e+00\n",
              "1314115    0.000000e+00\n",
              "Name: PREVAILING_WAGE, Length: 2984672, dtype: float64"
            ]
          },
          "metadata": {
            "tags": []
          },
          "execution_count": 49
        }
      ]
    },
    {
      "metadata": {
        "id": "ujRPEZNDrc96",
        "colab_type": "code",
        "outputId": "a48a23a5-685b-4b70-dc2f-9a97e42fcc96",
        "colab": {
          "base_uri": "https://localhost:8080/",
          "height": 34
        }
      },
      "cell_type": "code",
      "source": [
        "data['PREVAILING_WAGE'].max()"
      ],
      "execution_count": 50,
      "outputs": [
        {
          "output_type": "execute_result",
          "data": {
            "text/plain": [
              "6997606720.0"
            ]
          },
          "metadata": {
            "tags": []
          },
          "execution_count": 50
        }
      ]
    },
    {
      "metadata": {
        "id": "5yg-zn1Trc-G",
        "colab_type": "code",
        "outputId": "9bd9c6f4-0654-4ce5-8cff-659a7f81202a",
        "colab": {
          "base_uri": "https://localhost:8080/",
          "height": 445
        }
      },
      "cell_type": "code",
      "source": [
        "data.sample(5)"
      ],
      "execution_count": 51,
      "outputs": [
        {
          "output_type": "execute_result",
          "data": {
            "text/html": [
              "<div>\n",
              "<style scoped>\n",
              "    .dataframe tbody tr th:only-of-type {\n",
              "        vertical-align: middle;\n",
              "    }\n",
              "\n",
              "    .dataframe tbody tr th {\n",
              "        vertical-align: top;\n",
              "    }\n",
              "\n",
              "    .dataframe thead th {\n",
              "        text-align: right;\n",
              "    }\n",
              "</style>\n",
              "<table border=\"1\" class=\"dataframe\">\n",
              "  <thead>\n",
              "    <tr style=\"text-align: right;\">\n",
              "      <th></th>\n",
              "      <th>Unnamed: 0</th>\n",
              "      <th>CASE_STATUS</th>\n",
              "      <th>EMPLOYER_NAME</th>\n",
              "      <th>SOC_NAME</th>\n",
              "      <th>JOB_TITLE</th>\n",
              "      <th>FULL_TIME_POSITION</th>\n",
              "      <th>PREVAILING_WAGE</th>\n",
              "      <th>YEAR</th>\n",
              "      <th>WORKSITE</th>\n",
              "      <th>lon</th>\n",
              "      <th>lat</th>\n",
              "      <th>NEW_EMPLOYER</th>\n",
              "      <th>OCCUPATION</th>\n",
              "    </tr>\n",
              "  </thead>\n",
              "  <tbody>\n",
              "    <tr>\n",
              "      <th>2036651</th>\n",
              "      <td>2036652</td>\n",
              "      <td>CERTIFIED</td>\n",
              "      <td>little hands creative minds inc.</td>\n",
              "      <td>general and operations managers</td>\n",
              "      <td>OPERATIONS MANAGER</td>\n",
              "      <td>N</td>\n",
              "      <td>77771.2</td>\n",
              "      <td>2013.0</td>\n",
              "      <td>BROOKLYN, NEW YORK</td>\n",
              "      <td>-73.9441579</td>\n",
              "      <td>40.6782</td>\n",
              "      <td>Non University</td>\n",
              "      <td>Others</td>\n",
              "    </tr>\n",
              "    <tr>\n",
              "      <th>306370</th>\n",
              "      <td>306371</td>\n",
              "      <td>CERTIFIED</td>\n",
              "      <td>spartan solutions inc</td>\n",
              "      <td>software developers, applications</td>\n",
              "      <td>SOFTWARE ENGINEER</td>\n",
              "      <td>Y</td>\n",
              "      <td>87526.0</td>\n",
              "      <td>2016.0</td>\n",
              "      <td>MERIDIAN, IDAHO</td>\n",
              "      <td>-116.392</td>\n",
              "      <td>43.6121</td>\n",
              "      <td>Non University</td>\n",
              "      <td>computer occupations</td>\n",
              "    </tr>\n",
              "    <tr>\n",
              "      <th>2203415</th>\n",
              "      <td>2203416</td>\n",
              "      <td>CERTIFIED</td>\n",
              "      <td>netapp, inc.</td>\n",
              "      <td>software developers, systems software</td>\n",
              "      <td>MEMBER TECHNICAL STAFF, SOFTWARE</td>\n",
              "      <td>Y</td>\n",
              "      <td>127150.0</td>\n",
              "      <td>2013.0</td>\n",
              "      <td>SUNNYVALE, CALIFORNIA</td>\n",
              "      <td>-122.0363496</td>\n",
              "      <td>37.3688</td>\n",
              "      <td>Non University</td>\n",
              "      <td>computer occupations</td>\n",
              "    </tr>\n",
              "    <tr>\n",
              "      <th>542920</th>\n",
              "      <td>542921</td>\n",
              "      <td>CERTIFIED</td>\n",
              "      <td>intel massachusetts</td>\n",
              "      <td>electronics engineers, except computer</td>\n",
              "      <td>COMPONENT DESIGN ENGINEER</td>\n",
              "      <td>Y</td>\n",
              "      <td>94224.0</td>\n",
              "      <td>2016.0</td>\n",
              "      <td>HUDSON, MASSACHUSETTS</td>\n",
              "      <td>-71.566139</td>\n",
              "      <td>42.391736</td>\n",
              "      <td>Non University</td>\n",
              "      <td>Architecture &amp; Engineering</td>\n",
              "    </tr>\n",
              "    <tr>\n",
              "      <th>2494849</th>\n",
              "      <td>2494850</td>\n",
              "      <td>CERTIFIED</td>\n",
              "      <td>infosys limited</td>\n",
              "      <td>computer systems analysts</td>\n",
              "      <td>ANALYST</td>\n",
              "      <td>Y</td>\n",
              "      <td>58053.0</td>\n",
              "      <td>2012.0</td>\n",
              "      <td>RADNOR, PENNSYLVANIA</td>\n",
              "      <td>-75.3754599</td>\n",
              "      <td>40.043912</td>\n",
              "      <td>Non University</td>\n",
              "      <td>computer occupations</td>\n",
              "    </tr>\n",
              "  </tbody>\n",
              "</table>\n",
              "</div>"
            ],
            "text/plain": [
              "        Unnamed: 0 CASE_STATUS                     EMPLOYER_NAME  \\\n",
              "2036651    2036652   CERTIFIED  little hands creative minds inc.   \n",
              "306370      306371   CERTIFIED             spartan solutions inc   \n",
              "2203415    2203416   CERTIFIED                      netapp, inc.   \n",
              "542920      542921   CERTIFIED               intel massachusetts   \n",
              "2494849    2494850   CERTIFIED                   infosys limited   \n",
              "\n",
              "                                       SOC_NAME  \\\n",
              "2036651         general and operations managers   \n",
              "306370        software developers, applications   \n",
              "2203415   software developers, systems software   \n",
              "542920   electronics engineers, except computer   \n",
              "2494849               computer systems analysts   \n",
              "\n",
              "                                JOB_TITLE FULL_TIME_POSITION  PREVAILING_WAGE  \\\n",
              "2036651                OPERATIONS MANAGER                  N          77771.2   \n",
              "306370                  SOFTWARE ENGINEER                  Y          87526.0   \n",
              "2203415  MEMBER TECHNICAL STAFF, SOFTWARE                  Y         127150.0   \n",
              "542920          COMPONENT DESIGN ENGINEER                  Y          94224.0   \n",
              "2494849                           ANALYST                  Y          58053.0   \n",
              "\n",
              "           YEAR               WORKSITE           lon        lat  \\\n",
              "2036651  2013.0     BROOKLYN, NEW YORK   -73.9441579    40.6782   \n",
              "306370   2016.0        MERIDIAN, IDAHO      -116.392    43.6121   \n",
              "2203415  2013.0  SUNNYVALE, CALIFORNIA  -122.0363496    37.3688   \n",
              "542920   2016.0  HUDSON, MASSACHUSETTS    -71.566139  42.391736   \n",
              "2494849  2012.0   RADNOR, PENNSYLVANIA   -75.3754599  40.043912   \n",
              "\n",
              "           NEW_EMPLOYER                  OCCUPATION  \n",
              "2036651  Non University                      Others  \n",
              "306370   Non University        computer occupations  \n",
              "2203415  Non University        computer occupations  \n",
              "542920   Non University  Architecture & Engineering  \n",
              "2494849  Non University        computer occupations  "
            ]
          },
          "metadata": {
            "tags": []
          },
          "execution_count": 51
        }
      ]
    },
    {
      "metadata": {
        "id": "9WFgF843rc-Q",
        "colab_type": "code",
        "outputId": "5617f6b2-c0e6-4e11-aa5b-4ce1c2d21f95",
        "colab": {
          "base_uri": "https://localhost:8080/",
          "height": 119
        }
      },
      "cell_type": "code",
      "source": [
        "data['WORKSITE'].head()"
      ],
      "execution_count": 52,
      "outputs": [
        {
          "output_type": "execute_result",
          "data": {
            "text/plain": [
              "0        ANN ARBOR, MICHIGAN\n",
              "1               PLANO, TEXAS\n",
              "2    JERSEY CITY, NEW JERSEY\n",
              "3           DENVER, COLORADO\n",
              "4        ST. LOUIS, MISSOURI\n",
              "Name: WORKSITE, dtype: object"
            ]
          },
          "metadata": {
            "tags": []
          },
          "execution_count": 52
        }
      ]
    },
    {
      "metadata": {
        "id": "xvT8ejVlrc-b",
        "colab_type": "code",
        "colab": {}
      },
      "cell_type": "code",
      "source": [
        "#Splitting city and state and capturing state in another variable\n",
        "\n",
        "data['STATE'] = data.WORKSITE.str.split('\\s+').str[-1] # Stripping states from the above.."
      ],
      "execution_count": 0,
      "outputs": []
    },
    {
      "metadata": {
        "id": "6HaJBzBPrc-f",
        "colab_type": "code",
        "outputId": "074a56ce-6886-4cdc-8300-4f7f810c936b",
        "colab": {
          "base_uri": "https://localhost:8080/",
          "height": 119
        }
      },
      "cell_type": "code",
      "source": [
        "data['STATE'].head(5)"
      ],
      "execution_count": 54,
      "outputs": [
        {
          "output_type": "execute_result",
          "data": {
            "text/plain": [
              "0    MICHIGAN\n",
              "1       TEXAS\n",
              "2      JERSEY\n",
              "3    COLORADO\n",
              "4    MISSOURI\n",
              "Name: STATE, dtype: object"
            ]
          },
          "metadata": {
            "tags": []
          },
          "execution_count": 54
        }
      ]
    },
    {
      "metadata": {
        "id": "dY-cN3eJrc-m",
        "colab_type": "code",
        "colab": {}
      },
      "cell_type": "code",
      "source": [
        "# dropping these columns\n",
        "data = data.drop('EMPLOYER_NAME', axis = 1)\n",
        "data = data.drop('SOC_NAME', axis = 1)\n",
        "data = data.drop('JOB_TITLE', axis = 1)\n",
        "data = data.drop('WORKSITE', axis = 1)\n"
      ],
      "execution_count": 0,
      "outputs": []
    },
    {
      "metadata": {
        "id": "hJr7j3zhrc-r",
        "colab_type": "code",
        "outputId": "4fc8ed7d-92c2-45dd-e320-d2b290667585",
        "colab": {
          "base_uri": "https://localhost:8080/",
          "height": 326
        }
      },
      "cell_type": "code",
      "source": [
        "data.head(5)"
      ],
      "execution_count": 56,
      "outputs": [
        {
          "output_type": "execute_result",
          "data": {
            "text/html": [
              "<div>\n",
              "<style scoped>\n",
              "    .dataframe tbody tr th:only-of-type {\n",
              "        vertical-align: middle;\n",
              "    }\n",
              "\n",
              "    .dataframe tbody tr th {\n",
              "        vertical-align: top;\n",
              "    }\n",
              "\n",
              "    .dataframe thead th {\n",
              "        text-align: right;\n",
              "    }\n",
              "</style>\n",
              "<table border=\"1\" class=\"dataframe\">\n",
              "  <thead>\n",
              "    <tr style=\"text-align: right;\">\n",
              "      <th></th>\n",
              "      <th>Unnamed: 0</th>\n",
              "      <th>CASE_STATUS</th>\n",
              "      <th>FULL_TIME_POSITION</th>\n",
              "      <th>PREVAILING_WAGE</th>\n",
              "      <th>YEAR</th>\n",
              "      <th>lon</th>\n",
              "      <th>lat</th>\n",
              "      <th>NEW_EMPLOYER</th>\n",
              "      <th>OCCUPATION</th>\n",
              "      <th>STATE</th>\n",
              "    </tr>\n",
              "  </thead>\n",
              "  <tbody>\n",
              "    <tr>\n",
              "      <th>0</th>\n",
              "      <td>1</td>\n",
              "      <td>CERTIFIED-WITHDRAWN</td>\n",
              "      <td>N</td>\n",
              "      <td>36067.0</td>\n",
              "      <td>2016.0</td>\n",
              "      <td>-83.7430378</td>\n",
              "      <td>42.2808256</td>\n",
              "      <td>University</td>\n",
              "      <td>Advance Sciences</td>\n",
              "      <td>MICHIGAN</td>\n",
              "    </tr>\n",
              "    <tr>\n",
              "      <th>1</th>\n",
              "      <td>2</td>\n",
              "      <td>CERTIFIED-WITHDRAWN</td>\n",
              "      <td>Y</td>\n",
              "      <td>242674.0</td>\n",
              "      <td>2016.0</td>\n",
              "      <td>-96.6988856</td>\n",
              "      <td>33.0198431</td>\n",
              "      <td>Non University</td>\n",
              "      <td>Management Occupation</td>\n",
              "      <td>TEXAS</td>\n",
              "    </tr>\n",
              "    <tr>\n",
              "      <th>2</th>\n",
              "      <td>3</td>\n",
              "      <td>CERTIFIED-WITHDRAWN</td>\n",
              "      <td>Y</td>\n",
              "      <td>193066.0</td>\n",
              "      <td>2016.0</td>\n",
              "      <td>-74.0776417</td>\n",
              "      <td>40.7281575</td>\n",
              "      <td>Non University</td>\n",
              "      <td>Management Occupation</td>\n",
              "      <td>JERSEY</td>\n",
              "    </tr>\n",
              "    <tr>\n",
              "      <th>3</th>\n",
              "      <td>4</td>\n",
              "      <td>CERTIFIED-WITHDRAWN</td>\n",
              "      <td>Y</td>\n",
              "      <td>220314.0</td>\n",
              "      <td>2016.0</td>\n",
              "      <td>-104.990251</td>\n",
              "      <td>39.7392358</td>\n",
              "      <td>Non University</td>\n",
              "      <td>Management Occupation</td>\n",
              "      <td>COLORADO</td>\n",
              "    </tr>\n",
              "    <tr>\n",
              "      <th>4</th>\n",
              "      <td>5</td>\n",
              "      <td>WITHDRAWN</td>\n",
              "      <td>Y</td>\n",
              "      <td>157518.4</td>\n",
              "      <td>2016.0</td>\n",
              "      <td>-90.1994042</td>\n",
              "      <td>38.6270025</td>\n",
              "      <td>Non University</td>\n",
              "      <td>Management Occupation</td>\n",
              "      <td>MISSOURI</td>\n",
              "    </tr>\n",
              "  </tbody>\n",
              "</table>\n",
              "</div>"
            ],
            "text/plain": [
              "  Unnamed: 0          CASE_STATUS FULL_TIME_POSITION  PREVAILING_WAGE    YEAR  \\\n",
              "0          1  CERTIFIED-WITHDRAWN                  N          36067.0  2016.0   \n",
              "1          2  CERTIFIED-WITHDRAWN                  Y         242674.0  2016.0   \n",
              "2          3  CERTIFIED-WITHDRAWN                  Y         193066.0  2016.0   \n",
              "3          4  CERTIFIED-WITHDRAWN                  Y         220314.0  2016.0   \n",
              "4          5            WITHDRAWN                  Y         157518.4  2016.0   \n",
              "\n",
              "           lon         lat    NEW_EMPLOYER             OCCUPATION     STATE  \n",
              "0  -83.7430378  42.2808256      University       Advance Sciences  MICHIGAN  \n",
              "1  -96.6988856  33.0198431  Non University  Management Occupation     TEXAS  \n",
              "2  -74.0776417  40.7281575  Non University  Management Occupation    JERSEY  \n",
              "3  -104.990251  39.7392358  Non University  Management Occupation  COLORADO  \n",
              "4  -90.1994042  38.6270025  Non University  Management Occupation  MISSOURI  "
            ]
          },
          "metadata": {
            "tags": []
          },
          "execution_count": 56
        }
      ]
    },
    {
      "metadata": {
        "id": "XvcAr246rc-z",
        "colab_type": "code",
        "outputId": "50b17caa-d85e-491a-e166-0a5091483ff3",
        "colab": {
          "base_uri": "https://localhost:8080/",
          "height": 68
        }
      },
      "cell_type": "code",
      "source": [
        "data.columns"
      ],
      "execution_count": 57,
      "outputs": [
        {
          "output_type": "execute_result",
          "data": {
            "text/plain": [
              "Index(['Unnamed: 0', 'CASE_STATUS', 'FULL_TIME_POSITION', 'PREVAILING_WAGE',\n",
              "       'YEAR', 'lon', 'lat', 'NEW_EMPLOYER', 'OCCUPATION', 'STATE'],\n",
              "      dtype='object')"
            ]
          },
          "metadata": {
            "tags": []
          },
          "execution_count": 57
        }
      ]
    },
    {
      "metadata": {
        "id": "lFoUVZlkrc-5",
        "colab_type": "code",
        "colab": {}
      },
      "cell_type": "code",
      "source": [
        "data = data.drop('Unnamed: 0', axis = 1)  #dropping the index column"
      ],
      "execution_count": 0,
      "outputs": []
    },
    {
      "metadata": {
        "id": "keLMQtzqrc-9",
        "colab_type": "code",
        "outputId": "0ef0a21a-87e5-4146-d6a8-01daf2f8f4b2",
        "colab": {
          "base_uri": "https://localhost:8080/",
          "height": 309
        }
      },
      "cell_type": "code",
      "source": [
        "data.head(5)"
      ],
      "execution_count": 59,
      "outputs": [
        {
          "output_type": "execute_result",
          "data": {
            "text/html": [
              "<div>\n",
              "<style scoped>\n",
              "    .dataframe tbody tr th:only-of-type {\n",
              "        vertical-align: middle;\n",
              "    }\n",
              "\n",
              "    .dataframe tbody tr th {\n",
              "        vertical-align: top;\n",
              "    }\n",
              "\n",
              "    .dataframe thead th {\n",
              "        text-align: right;\n",
              "    }\n",
              "</style>\n",
              "<table border=\"1\" class=\"dataframe\">\n",
              "  <thead>\n",
              "    <tr style=\"text-align: right;\">\n",
              "      <th></th>\n",
              "      <th>CASE_STATUS</th>\n",
              "      <th>FULL_TIME_POSITION</th>\n",
              "      <th>PREVAILING_WAGE</th>\n",
              "      <th>YEAR</th>\n",
              "      <th>lon</th>\n",
              "      <th>lat</th>\n",
              "      <th>NEW_EMPLOYER</th>\n",
              "      <th>OCCUPATION</th>\n",
              "      <th>STATE</th>\n",
              "    </tr>\n",
              "  </thead>\n",
              "  <tbody>\n",
              "    <tr>\n",
              "      <th>0</th>\n",
              "      <td>CERTIFIED-WITHDRAWN</td>\n",
              "      <td>N</td>\n",
              "      <td>36067.0</td>\n",
              "      <td>2016.0</td>\n",
              "      <td>-83.7430378</td>\n",
              "      <td>42.2808256</td>\n",
              "      <td>University</td>\n",
              "      <td>Advance Sciences</td>\n",
              "      <td>MICHIGAN</td>\n",
              "    </tr>\n",
              "    <tr>\n",
              "      <th>1</th>\n",
              "      <td>CERTIFIED-WITHDRAWN</td>\n",
              "      <td>Y</td>\n",
              "      <td>242674.0</td>\n",
              "      <td>2016.0</td>\n",
              "      <td>-96.6988856</td>\n",
              "      <td>33.0198431</td>\n",
              "      <td>Non University</td>\n",
              "      <td>Management Occupation</td>\n",
              "      <td>TEXAS</td>\n",
              "    </tr>\n",
              "    <tr>\n",
              "      <th>2</th>\n",
              "      <td>CERTIFIED-WITHDRAWN</td>\n",
              "      <td>Y</td>\n",
              "      <td>193066.0</td>\n",
              "      <td>2016.0</td>\n",
              "      <td>-74.0776417</td>\n",
              "      <td>40.7281575</td>\n",
              "      <td>Non University</td>\n",
              "      <td>Management Occupation</td>\n",
              "      <td>JERSEY</td>\n",
              "    </tr>\n",
              "    <tr>\n",
              "      <th>3</th>\n",
              "      <td>CERTIFIED-WITHDRAWN</td>\n",
              "      <td>Y</td>\n",
              "      <td>220314.0</td>\n",
              "      <td>2016.0</td>\n",
              "      <td>-104.990251</td>\n",
              "      <td>39.7392358</td>\n",
              "      <td>Non University</td>\n",
              "      <td>Management Occupation</td>\n",
              "      <td>COLORADO</td>\n",
              "    </tr>\n",
              "    <tr>\n",
              "      <th>4</th>\n",
              "      <td>WITHDRAWN</td>\n",
              "      <td>Y</td>\n",
              "      <td>157518.4</td>\n",
              "      <td>2016.0</td>\n",
              "      <td>-90.1994042</td>\n",
              "      <td>38.6270025</td>\n",
              "      <td>Non University</td>\n",
              "      <td>Management Occupation</td>\n",
              "      <td>MISSOURI</td>\n",
              "    </tr>\n",
              "  </tbody>\n",
              "</table>\n",
              "</div>"
            ],
            "text/plain": [
              "           CASE_STATUS FULL_TIME_POSITION  PREVAILING_WAGE    YEAR  \\\n",
              "0  CERTIFIED-WITHDRAWN                  N          36067.0  2016.0   \n",
              "1  CERTIFIED-WITHDRAWN                  Y         242674.0  2016.0   \n",
              "2  CERTIFIED-WITHDRAWN                  Y         193066.0  2016.0   \n",
              "3  CERTIFIED-WITHDRAWN                  Y         220314.0  2016.0   \n",
              "4            WITHDRAWN                  Y         157518.4  2016.0   \n",
              "\n",
              "           lon         lat    NEW_EMPLOYER             OCCUPATION     STATE  \n",
              "0  -83.7430378  42.2808256      University       Advance Sciences  MICHIGAN  \n",
              "1  -96.6988856  33.0198431  Non University  Management Occupation     TEXAS  \n",
              "2  -74.0776417  40.7281575  Non University  Management Occupation    JERSEY  \n",
              "3  -104.990251  39.7392358  Non University  Management Occupation  COLORADO  \n",
              "4  -90.1994042  38.6270025  Non University  Management Occupation  MISSOURI  "
            ]
          },
          "metadata": {
            "tags": []
          },
          "execution_count": 59
        }
      ]
    },
    {
      "metadata": {
        "id": "qvrXZcRvrc_D",
        "colab_type": "text"
      },
      "cell_type": "markdown",
      "source": [
        "The target variable will have only 2 classes i.e. __Certified and Denied__"
      ]
    },
    {
      "metadata": {
        "id": "tdu9e-vNrc_E",
        "colab_type": "code",
        "colab": {}
      },
      "cell_type": "code",
      "source": [
        "warnings.filterwarnings(\"ignore\")\n",
        "data.CASE_STATUS[data['CASE_STATUS']=='REJECTED'] = 'DENIED'\n",
        "data.CASE_STATUS[data['CASE_STATUS']=='INVALIDATED'] = 'DENIED'\n",
        "data.CASE_STATUS[data['CASE_STATUS']=='PENDING QUALITY AND COMPLIANCE REVIEW - UNASSIGNED'] = 'DENIED'\n",
        "data.CASE_STATUS[data['CASE_STATUS']=='CERTIFIED-WITHDRAWN'] = 'CERTIFIED'"
      ],
      "execution_count": 0,
      "outputs": []
    },
    {
      "metadata": {
        "id": "Hwbo0auZrc_M",
        "colab_type": "code",
        "outputId": "a0788fd0-08ae-41d8-c4d4-b9435420c1e9",
        "colab": {
          "base_uri": "https://localhost:8080/",
          "height": 297
        }
      },
      "cell_type": "code",
      "source": [
        "data.describe()"
      ],
      "execution_count": 61,
      "outputs": [
        {
          "output_type": "execute_result",
          "data": {
            "text/html": [
              "<div>\n",
              "<style scoped>\n",
              "    .dataframe tbody tr th:only-of-type {\n",
              "        vertical-align: middle;\n",
              "    }\n",
              "\n",
              "    .dataframe tbody tr th {\n",
              "        vertical-align: top;\n",
              "    }\n",
              "\n",
              "    .dataframe thead th {\n",
              "        text-align: right;\n",
              "    }\n",
              "</style>\n",
              "<table border=\"1\" class=\"dataframe\">\n",
              "  <thead>\n",
              "    <tr style=\"text-align: right;\">\n",
              "      <th></th>\n",
              "      <th>PREVAILING_WAGE</th>\n",
              "      <th>YEAR</th>\n",
              "    </tr>\n",
              "  </thead>\n",
              "  <tbody>\n",
              "    <tr>\n",
              "      <th>count</th>\n",
              "      <td>2.984672e+06</td>\n",
              "      <td>2.984672e+06</td>\n",
              "    </tr>\n",
              "    <tr>\n",
              "      <th>mean</th>\n",
              "      <td>1.469640e+05</td>\n",
              "      <td>2.013864e+03</td>\n",
              "    </tr>\n",
              "    <tr>\n",
              "      <th>std</th>\n",
              "      <td>5.296091e+06</td>\n",
              "      <td>1.678808e+00</td>\n",
              "    </tr>\n",
              "    <tr>\n",
              "      <th>min</th>\n",
              "      <td>0.000000e+00</td>\n",
              "      <td>2.011000e+03</td>\n",
              "    </tr>\n",
              "    <tr>\n",
              "      <th>25%</th>\n",
              "      <td>5.435040e+04</td>\n",
              "      <td>2.012000e+03</td>\n",
              "    </tr>\n",
              "    <tr>\n",
              "      <th>50%</th>\n",
              "      <td>6.500000e+04</td>\n",
              "      <td>2.014000e+03</td>\n",
              "    </tr>\n",
              "    <tr>\n",
              "      <th>75%</th>\n",
              "      <td>8.143200e+04</td>\n",
              "      <td>2.015000e+03</td>\n",
              "    </tr>\n",
              "    <tr>\n",
              "      <th>max</th>\n",
              "      <td>6.997607e+09</td>\n",
              "      <td>2.016000e+03</td>\n",
              "    </tr>\n",
              "  </tbody>\n",
              "</table>\n",
              "</div>"
            ],
            "text/plain": [
              "       PREVAILING_WAGE          YEAR\n",
              "count     2.984672e+06  2.984672e+06\n",
              "mean      1.469640e+05  2.013864e+03\n",
              "std       5.296091e+06  1.678808e+00\n",
              "min       0.000000e+00  2.011000e+03\n",
              "25%       5.435040e+04  2.012000e+03\n",
              "50%       6.500000e+04  2.014000e+03\n",
              "75%       8.143200e+04  2.015000e+03\n",
              "max       6.997607e+09  2.016000e+03"
            ]
          },
          "metadata": {
            "tags": []
          },
          "execution_count": 61
        }
      ]
    },
    {
      "metadata": {
        "id": "KcSyqm9Nrc_S",
        "colab_type": "code",
        "outputId": "fe10c8b1-d066-4f45-b0c7-0313a224c9c1",
        "colab": {
          "base_uri": "https://localhost:8080/",
          "height": 68
        }
      },
      "cell_type": "code",
      "source": [
        "##Drop rows with withdrawn\n",
        "\n",
        "data = data.drop(data[data.CASE_STATUS == 'WITHDRAWN'].index)\n",
        "\n",
        "## Storing non null in df w.r.t. case status\n",
        "data = data[data['CASE_STATUS'].notnull()]\n",
        "print(data['CASE_STATUS'].value_counts())"
      ],
      "execution_count": 62,
      "outputs": [
        {
          "output_type": "stream",
          "text": [
            "CERTIFIED    2801720\n",
            "DENIED         93830\n",
            "Name: CASE_STATUS, dtype: int64\n"
          ],
          "name": "stdout"
        }
      ]
    },
    {
      "metadata": {
        "id": "sN2OCHvErc_W",
        "colab_type": "code",
        "colab": {}
      },
      "cell_type": "code",
      "source": [
        "# Dropping lat and lon columns\n",
        "data = data.drop('lat', axis = 1)\n",
        "data = data.drop('lon', axis = 1)\n"
      ],
      "execution_count": 0,
      "outputs": []
    },
    {
      "metadata": {
        "id": "xHPeJaztrc_i",
        "colab_type": "text"
      },
      "cell_type": "markdown",
      "source": [
        " You can use CERTIFIED and DENIED, but you won't be able to calculate probabilites and the Accuracy score in this case. So you have to map it to 0 and 1."
      ]
    },
    {
      "metadata": {
        "id": "SDv66KVrrc_k",
        "colab_type": "code",
        "colab": {}
      },
      "cell_type": "code",
      "source": [
        "from sklearn import preprocessing\n",
        "class_mapping = {'CERTIFIED':0, 'DENIED':1}\n",
        "data[\"CASE_STATUS\"] = data[\"CASE_STATUS\"].map(class_mapping)"
      ],
      "execution_count": 0,
      "outputs": []
    },
    {
      "metadata": {
        "id": "_SjbI3Ssrc_p",
        "colab_type": "text"
      },
      "cell_type": "markdown",
      "source": [
        "Changing the data type of these variables from object to category, as these are categorical features."
      ]
    },
    {
      "metadata": {
        "id": "mdFu3c1Lrc_q",
        "colab_type": "code",
        "colab": {}
      },
      "cell_type": "code",
      "source": [
        "data[['CASE_STATUS', 'FULL_TIME_POSITION','NEW_EMPLOYER','OCCUPATION','STATE','YEAR']] = data[['CASE_STATUS', 'FULL_TIME_POSITION', 'NEW_EMPLOYER','OCCUPATION','STATE','YEAR']].apply(lambda x: x.astype('category'))"
      ],
      "execution_count": 0,
      "outputs": []
    },
    {
      "metadata": {
        "id": "R0uYHdgHrc_1",
        "colab_type": "code",
        "outputId": "581b6c6b-c725-4106-ced1-8888301a0503",
        "colab": {
          "base_uri": "https://localhost:8080/",
          "height": 34
        }
      },
      "cell_type": "code",
      "source": [
        "data.shape"
      ],
      "execution_count": 66,
      "outputs": [
        {
          "output_type": "execute_result",
          "data": {
            "text/plain": [
              "(2895550, 7)"
            ]
          },
          "metadata": {
            "tags": []
          },
          "execution_count": 66
        }
      ]
    },
    {
      "metadata": {
        "id": "Wg6kPA8prc_9",
        "colab_type": "text"
      },
      "cell_type": "markdown",
      "source": [
        "After clean up we pick 1M Observaiton to work with.."
      ]
    },
    {
      "metadata": {
        "id": "JqH1E-Uxrc_-",
        "colab_type": "code",
        "colab": {}
      },
      "cell_type": "code",
      "source": [
        "#df= data.sample(frac=.45,replace=True, random_state=99)"
      ],
      "execution_count": 0,
      "outputs": []
    },
    {
      "metadata": {
        "id": "EOnCmc37rdAk",
        "colab_type": "code",
        "colab": {}
      },
      "cell_type": "code",
      "source": [
        "data=pd.get_dummies(data,columns=[ 'FULL_TIME_POSITION','NEW_EMPLOYER','OCCUPATION','STATE','YEAR'])"
      ],
      "execution_count": 0,
      "outputs": []
    },
    {
      "metadata": {
        "id": "tu2bXnoMzP0c",
        "colab_type": "text"
      },
      "cell_type": "markdown",
      "source": [
        "Normalization of wages using using feature scaling. Model developed with normalized data was not good hence reverted to original float values."
      ]
    },
    {
      "metadata": {
        "id": "nWyZYruGzCe7",
        "colab_type": "code",
        "colab": {}
      },
      "cell_type": "code",
      "source": [
        "\n",
        "#data['PREVAILING_WAGE']=data['PREVAILING_WAGE']/data['PREVAILING_WAGE'].max()"
      ],
      "execution_count": 0,
      "outputs": []
    },
    {
      "metadata": {
        "id": "PUZxRJ7Aym_G",
        "colab_type": "code",
        "outputId": "3ec50a85-16d1-416c-985a-8083e1a6bf36",
        "colab": {
          "base_uri": "https://localhost:8080/",
          "height": 270
        }
      },
      "cell_type": "code",
      "source": [
        "data.head(5)"
      ],
      "execution_count": 70,
      "outputs": [
        {
          "output_type": "execute_result",
          "data": {
            "text/html": [
              "<div>\n",
              "<style scoped>\n",
              "    .dataframe tbody tr th:only-of-type {\n",
              "        vertical-align: middle;\n",
              "    }\n",
              "\n",
              "    .dataframe tbody tr th {\n",
              "        vertical-align: top;\n",
              "    }\n",
              "\n",
              "    .dataframe thead th {\n",
              "        text-align: right;\n",
              "    }\n",
              "</style>\n",
              "<table border=\"1\" class=\"dataframe\">\n",
              "  <thead>\n",
              "    <tr style=\"text-align: right;\">\n",
              "      <th></th>\n",
              "      <th>CASE_STATUS</th>\n",
              "      <th>PREVAILING_WAGE</th>\n",
              "      <th>FULL_TIME_POSITION_N</th>\n",
              "      <th>FULL_TIME_POSITION_Y</th>\n",
              "      <th>NEW_EMPLOYER_Non University</th>\n",
              "      <th>NEW_EMPLOYER_University</th>\n",
              "      <th>OCCUPATION_Advance Sciences</th>\n",
              "      <th>OCCUPATION_Architecture &amp; Engineering</th>\n",
              "      <th>OCCUPATION_Business Occupation</th>\n",
              "      <th>OCCUPATION_Education Occupations</th>\n",
              "      <th>...</th>\n",
              "      <th>STATE_WASHINGTON</th>\n",
              "      <th>STATE_WISCONSIN</th>\n",
              "      <th>STATE_WYOMING</th>\n",
              "      <th>STATE_YORK</th>\n",
              "      <th>YEAR_2011.0</th>\n",
              "      <th>YEAR_2012.0</th>\n",
              "      <th>YEAR_2013.0</th>\n",
              "      <th>YEAR_2014.0</th>\n",
              "      <th>YEAR_2015.0</th>\n",
              "      <th>YEAR_2016.0</th>\n",
              "    </tr>\n",
              "  </thead>\n",
              "  <tbody>\n",
              "    <tr>\n",
              "      <th>0</th>\n",
              "      <td>0</td>\n",
              "      <td>36067.0</td>\n",
              "      <td>1</td>\n",
              "      <td>0</td>\n",
              "      <td>0</td>\n",
              "      <td>1</td>\n",
              "      <td>1</td>\n",
              "      <td>0</td>\n",
              "      <td>0</td>\n",
              "      <td>0</td>\n",
              "      <td>...</td>\n",
              "      <td>0</td>\n",
              "      <td>0</td>\n",
              "      <td>0</td>\n",
              "      <td>0</td>\n",
              "      <td>0</td>\n",
              "      <td>0</td>\n",
              "      <td>0</td>\n",
              "      <td>0</td>\n",
              "      <td>0</td>\n",
              "      <td>1</td>\n",
              "    </tr>\n",
              "    <tr>\n",
              "      <th>1</th>\n",
              "      <td>0</td>\n",
              "      <td>242674.0</td>\n",
              "      <td>0</td>\n",
              "      <td>1</td>\n",
              "      <td>1</td>\n",
              "      <td>0</td>\n",
              "      <td>0</td>\n",
              "      <td>0</td>\n",
              "      <td>0</td>\n",
              "      <td>0</td>\n",
              "      <td>...</td>\n",
              "      <td>0</td>\n",
              "      <td>0</td>\n",
              "      <td>0</td>\n",
              "      <td>0</td>\n",
              "      <td>0</td>\n",
              "      <td>0</td>\n",
              "      <td>0</td>\n",
              "      <td>0</td>\n",
              "      <td>0</td>\n",
              "      <td>1</td>\n",
              "    </tr>\n",
              "    <tr>\n",
              "      <th>2</th>\n",
              "      <td>0</td>\n",
              "      <td>193066.0</td>\n",
              "      <td>0</td>\n",
              "      <td>1</td>\n",
              "      <td>1</td>\n",
              "      <td>0</td>\n",
              "      <td>0</td>\n",
              "      <td>0</td>\n",
              "      <td>0</td>\n",
              "      <td>0</td>\n",
              "      <td>...</td>\n",
              "      <td>0</td>\n",
              "      <td>0</td>\n",
              "      <td>0</td>\n",
              "      <td>0</td>\n",
              "      <td>0</td>\n",
              "      <td>0</td>\n",
              "      <td>0</td>\n",
              "      <td>0</td>\n",
              "      <td>0</td>\n",
              "      <td>1</td>\n",
              "    </tr>\n",
              "    <tr>\n",
              "      <th>3</th>\n",
              "      <td>0</td>\n",
              "      <td>220314.0</td>\n",
              "      <td>0</td>\n",
              "      <td>1</td>\n",
              "      <td>1</td>\n",
              "      <td>0</td>\n",
              "      <td>0</td>\n",
              "      <td>0</td>\n",
              "      <td>0</td>\n",
              "      <td>0</td>\n",
              "      <td>...</td>\n",
              "      <td>0</td>\n",
              "      <td>0</td>\n",
              "      <td>0</td>\n",
              "      <td>0</td>\n",
              "      <td>0</td>\n",
              "      <td>0</td>\n",
              "      <td>0</td>\n",
              "      <td>0</td>\n",
              "      <td>0</td>\n",
              "      <td>1</td>\n",
              "    </tr>\n",
              "    <tr>\n",
              "      <th>5</th>\n",
              "      <td>0</td>\n",
              "      <td>225000.0</td>\n",
              "      <td>0</td>\n",
              "      <td>1</td>\n",
              "      <td>1</td>\n",
              "      <td>0</td>\n",
              "      <td>0</td>\n",
              "      <td>0</td>\n",
              "      <td>0</td>\n",
              "      <td>0</td>\n",
              "      <td>...</td>\n",
              "      <td>0</td>\n",
              "      <td>0</td>\n",
              "      <td>0</td>\n",
              "      <td>0</td>\n",
              "      <td>0</td>\n",
              "      <td>0</td>\n",
              "      <td>0</td>\n",
              "      <td>0</td>\n",
              "      <td>0</td>\n",
              "      <td>1</td>\n",
              "    </tr>\n",
              "  </tbody>\n",
              "</table>\n",
              "<p>5 rows × 73 columns</p>\n",
              "</div>"
            ],
            "text/plain": [
              "  CASE_STATUS  PREVAILING_WAGE  FULL_TIME_POSITION_N  FULL_TIME_POSITION_Y  \\\n",
              "0           0          36067.0                     1                     0   \n",
              "1           0         242674.0                     0                     1   \n",
              "2           0         193066.0                     0                     1   \n",
              "3           0         220314.0                     0                     1   \n",
              "5           0         225000.0                     0                     1   \n",
              "\n",
              "   NEW_EMPLOYER_Non University  NEW_EMPLOYER_University  \\\n",
              "0                            0                        1   \n",
              "1                            1                        0   \n",
              "2                            1                        0   \n",
              "3                            1                        0   \n",
              "5                            1                        0   \n",
              "\n",
              "   OCCUPATION_Advance Sciences  OCCUPATION_Architecture & Engineering  \\\n",
              "0                            1                                      0   \n",
              "1                            0                                      0   \n",
              "2                            0                                      0   \n",
              "3                            0                                      0   \n",
              "5                            0                                      0   \n",
              "\n",
              "   OCCUPATION_Business Occupation  OCCUPATION_Education Occupations  \\\n",
              "0                               0                                 0   \n",
              "1                               0                                 0   \n",
              "2                               0                                 0   \n",
              "3                               0                                 0   \n",
              "5                               0                                 0   \n",
              "\n",
              "      ...       STATE_WASHINGTON  STATE_WISCONSIN  STATE_WYOMING  STATE_YORK  \\\n",
              "0     ...                      0                0              0           0   \n",
              "1     ...                      0                0              0           0   \n",
              "2     ...                      0                0              0           0   \n",
              "3     ...                      0                0              0           0   \n",
              "5     ...                      0                0              0           0   \n",
              "\n",
              "   YEAR_2011.0  YEAR_2012.0  YEAR_2013.0  YEAR_2014.0  YEAR_2015.0  \\\n",
              "0            0            0            0            0            0   \n",
              "1            0            0            0            0            0   \n",
              "2            0            0            0            0            0   \n",
              "3            0            0            0            0            0   \n",
              "5            0            0            0            0            0   \n",
              "\n",
              "   YEAR_2016.0  \n",
              "0            1  \n",
              "1            1  \n",
              "2            1  \n",
              "3            1  \n",
              "5            1  \n",
              "\n",
              "[5 rows x 73 columns]"
            ]
          },
          "metadata": {
            "tags": []
          },
          "execution_count": 70
        }
      ]
    },
    {
      "metadata": {
        "id": "m7q2dTaMy_nM",
        "colab_type": "code",
        "colab": {}
      },
      "cell_type": "code",
      "source": [
        ""
      ],
      "execution_count": 0,
      "outputs": []
    },
    {
      "metadata": {
        "id": "kZugj1PGrdAo",
        "colab_type": "text"
      },
      "cell_type": "markdown",
      "source": [
        "### MODEL CREATION"
      ]
    },
    {
      "metadata": {
        "id": "hYUNJE9-rdAp",
        "colab_type": "text"
      },
      "cell_type": "markdown",
      "source": [
        "Splitting the Data in Training and Test Sets"
      ]
    },
    {
      "metadata": {
        "id": "b-QXbVOHrdAq",
        "colab_type": "code",
        "colab": {}
      },
      "cell_type": "code",
      "source": [
        "X = data.drop('CASE_STATUS', axis=1) #dropping dependent variables\n",
        "y = data.CASE_STATUS"
      ],
      "execution_count": 0,
      "outputs": []
    },
    {
      "metadata": {
        "id": "NwL9oilWrdAz",
        "colab_type": "code",
        "colab": {}
      },
      "cell_type": "code",
      "source": [
        "X_train, X_test, y_train, y_test = train_test_split(X, y, test_size=0.3, random_state=7)"
      ],
      "execution_count": 0,
      "outputs": []
    },
    {
      "metadata": {
        "id": "hEw8lHFordA3",
        "colab_type": "code",
        "outputId": "22655618-e2e2-44dc-c98e-e647423ec8eb",
        "colab": {
          "base_uri": "https://localhost:8080/",
          "height": 1071
        }
      },
      "cell_type": "code",
      "source": [
        "X_train.isnull().sum()"
      ],
      "execution_count": 73,
      "outputs": [
        {
          "output_type": "execute_result",
          "data": {
            "text/plain": [
              "PREVAILING_WAGE                          0\n",
              "FULL_TIME_POSITION_N                     0\n",
              "FULL_TIME_POSITION_Y                     0\n",
              "NEW_EMPLOYER_Non University              0\n",
              "NEW_EMPLOYER_University                  0\n",
              "OCCUPATION_Advance Sciences              0\n",
              "OCCUPATION_Architecture & Engineering    0\n",
              "OCCUPATION_Business Occupation           0\n",
              "OCCUPATION_Education Occupations         0\n",
              "OCCUPATION_Financial Occupation          0\n",
              "OCCUPATION_Management Occupation         0\n",
              "OCCUPATION_Marketing Occupation          0\n",
              "OCCUPATION_Mathematical Occupations      0\n",
              "OCCUPATION_Medical Occupations           0\n",
              "OCCUPATION_Others                        0\n",
              "OCCUPATION_computer occupations          0\n",
              "STATE_ALABAMA                            0\n",
              "STATE_ALASKA                             0\n",
              "STATE_ARIZONA                            0\n",
              "STATE_ARKANSAS                           0\n",
              "STATE_CALIFORNIA                         0\n",
              "STATE_CAROLINA                           0\n",
              "STATE_COLORADO                           0\n",
              "STATE_COLUMBIA                           0\n",
              "STATE_CONNECTICUT                        0\n",
              "STATE_DAKOTA                             0\n",
              "STATE_DELAWARE                           0\n",
              "STATE_FLORIDA                            0\n",
              "STATE_GEORGIA                            0\n",
              "STATE_HAMPSHIRE                          0\n",
              "                                        ..\n",
              "STATE_MASSACHUSETTS                      0\n",
              "STATE_MEXICO                             0\n",
              "STATE_MICHIGAN                           0\n",
              "STATE_MINNESOTA                          0\n",
              "STATE_MISSISSIPPI                        0\n",
              "STATE_MISSOURI                           0\n",
              "STATE_MONTANA                            0\n",
              "STATE_NA                                 0\n",
              "STATE_NEBRASKA                           0\n",
              "STATE_NEVADA                             0\n",
              "STATE_OHIO                               0\n",
              "STATE_OKLAHOMA                           0\n",
              "STATE_OREGON                             0\n",
              "STATE_PENNSYLVANIA                       0\n",
              "STATE_RICO                               0\n",
              "STATE_TENNESSEE                          0\n",
              "STATE_TEXAS                              0\n",
              "STATE_UTAH                               0\n",
              "STATE_VERMONT                            0\n",
              "STATE_VIRGINIA                           0\n",
              "STATE_WASHINGTON                         0\n",
              "STATE_WISCONSIN                          0\n",
              "STATE_WYOMING                            0\n",
              "STATE_YORK                               0\n",
              "YEAR_2011.0                              0\n",
              "YEAR_2012.0                              0\n",
              "YEAR_2013.0                              0\n",
              "YEAR_2014.0                              0\n",
              "YEAR_2015.0                              0\n",
              "YEAR_2016.0                              0\n",
              "Length: 72, dtype: int64"
            ]
          },
          "metadata": {
            "tags": []
          },
          "execution_count": 73
        }
      ]
    },
    {
      "metadata": {
        "id": "yYLouF2jrdB2",
        "colab_type": "text"
      },
      "cell_type": "markdown",
      "source": [
        "## Using LR"
      ]
    },
    {
      "metadata": {
        "id": "BhUY9YsqrdB3",
        "colab_type": "code",
        "colab": {}
      },
      "cell_type": "code",
      "source": [
        "LR=LogisticRegression(C=0.01, solver='liblinear')\n",
        "KN=KNeighborsClassifier()\n",
        "RF=RandomForestClassifier(n_estimators=300)   \n",
        "XGB=XGBClassifier(learning_rate =0.05,n_estimators=1000,max_depth=3,min_child_weight=1,gamma=0,subsample=0.8,colsample_bytree=0.8,objective= 'binary:logistic',\n",
        " nthread=4,scale_pos_weight=1,seed=27)\n",
        "GB=GradientBoostingClassifier()"
      ],
      "execution_count": 0,
      "outputs": []
    },
    {
      "metadata": {
        "id": "SUelPT9NrdB6",
        "colab_type": "code",
        "outputId": "d360d7b6-50b9-4bab-c3bb-e41483f0cfe6",
        "colab": {
          "base_uri": "https://localhost:8080/",
          "height": 85
        }
      },
      "cell_type": "code",
      "source": [
        "LR.fit(X_train,y_train)"
      ],
      "execution_count": 75,
      "outputs": [
        {
          "output_type": "execute_result",
          "data": {
            "text/plain": [
              "LogisticRegression(C=0.01, class_weight=None, dual=False, fit_intercept=True,\n",
              "          intercept_scaling=1, max_iter=100, multi_class='warn',\n",
              "          n_jobs=None, penalty='l2', random_state=None, solver='liblinear',\n",
              "          tol=0.0001, verbose=0, warm_start=False)"
            ]
          },
          "metadata": {
            "tags": []
          },
          "execution_count": 75
        }
      ]
    },
    {
      "metadata": {
        "id": "rGmEvpdJ3_-i",
        "colab_type": "code",
        "colab": {}
      },
      "cell_type": "code",
      "source": [
        "yhat1 = LR.predict(X_test)"
      ],
      "execution_count": 0,
      "outputs": []
    },
    {
      "metadata": {
        "id": "xzTniHE54Zkk",
        "colab_type": "code",
        "outputId": "041f2928-5078-468a-b18b-90fd1ec39886",
        "colab": {
          "base_uri": "https://localhost:8080/",
          "height": 34
        }
      },
      "cell_type": "code",
      "source": [
        "print(\"Accuracy:\",metrics.accuracy_score(y_test, yhat1))"
      ],
      "execution_count": 77,
      "outputs": [
        {
          "output_type": "stream",
          "text": [
            "Accuracy: 0.9680118342514088\n"
          ],
          "name": "stdout"
        }
      ]
    },
    {
      "metadata": {
        "id": "BRCZV8YLY7K2",
        "colab_type": "code",
        "colab": {
          "base_uri": "https://localhost:8080/",
          "height": 51
        },
        "outputId": "6ea31ff8-46f2-46d5-8c7d-690475aabd26"
      },
      "cell_type": "code",
      "source": [
        "print(confusion_matrix(y_test, yhat1,labels=[1,0]))"
      ],
      "execution_count": 78,
      "outputs": [
        {
          "output_type": "stream",
          "text": [
            "[[   458  27771]\n",
            " [    16 840420]]\n"
          ],
          "name": "stdout"
        }
      ]
    },
    {
      "metadata": {
        "id": "-XrWnHvK33h2",
        "colab_type": "code",
        "outputId": "bfa3b090-2a81-488b-8b17-8cb45418b399",
        "colab": {
          "base_uri": "https://localhost:8080/",
          "height": 170
        }
      },
      "cell_type": "code",
      "source": [
        "print(classification_report(y_test, yhat1))"
      ],
      "execution_count": 79,
      "outputs": [
        {
          "output_type": "stream",
          "text": [
            "              precision    recall  f1-score   support\n",
            "\n",
            "           0       0.97      1.00      0.98    840436\n",
            "           1       0.97      0.02      0.03     28229\n",
            "\n",
            "   micro avg       0.97      0.97      0.97    868665\n",
            "   macro avg       0.97      0.51      0.51    868665\n",
            "weighted avg       0.97      0.97      0.95    868665\n",
            "\n"
          ],
          "name": "stdout"
        }
      ]
    },
    {
      "metadata": {
        "id": "0uS1xRmcVjmM",
        "colab_type": "text"
      },
      "cell_type": "markdown",
      "source": [
        "## Using GB"
      ]
    },
    {
      "metadata": {
        "id": "iKkBU6v8rdCW",
        "colab_type": "code",
        "colab": {
          "base_uri": "https://localhost:8080/",
          "height": 170
        },
        "outputId": "a424f9ce-3189-4126-8973-d6eeeba79c82"
      },
      "cell_type": "code",
      "source": [
        "GB.fit(X_train,y_train)"
      ],
      "execution_count": 80,
      "outputs": [
        {
          "output_type": "execute_result",
          "data": {
            "text/plain": [
              "GradientBoostingClassifier(criterion='friedman_mse', init=None,\n",
              "              learning_rate=0.1, loss='deviance', max_depth=3,\n",
              "              max_features=None, max_leaf_nodes=None,\n",
              "              min_impurity_decrease=0.0, min_impurity_split=None,\n",
              "              min_samples_leaf=1, min_samples_split=2,\n",
              "              min_weight_fraction_leaf=0.0, n_estimators=100,\n",
              "              n_iter_no_change=None, presort='auto', random_state=None,\n",
              "              subsample=1.0, tol=0.0001, validation_fraction=0.1,\n",
              "              verbose=0, warm_start=False)"
            ]
          },
          "metadata": {
            "tags": []
          },
          "execution_count": 80
        }
      ]
    },
    {
      "metadata": {
        "id": "YzevQHICPIIU",
        "colab_type": "code",
        "colab": {}
      },
      "cell_type": "code",
      "source": [
        "yhat2 = GB.predict(X_test)"
      ],
      "execution_count": 0,
      "outputs": []
    },
    {
      "metadata": {
        "id": "bMB2oDTGPWUR",
        "colab_type": "code",
        "colab": {
          "base_uri": "https://localhost:8080/",
          "height": 51
        },
        "outputId": "9439a14e-f955-450b-fde3-053d74161cf6"
      },
      "cell_type": "code",
      "source": [
        "print(confusion_matrix(y_test, yhat2,labels=[1,0]))"
      ],
      "execution_count": 82,
      "outputs": [
        {
          "output_type": "stream",
          "text": [
            "[[   714  27515]\n",
            " [    79 840357]]\n"
          ],
          "name": "stdout"
        }
      ]
    },
    {
      "metadata": {
        "id": "t0rtg-u1VZpA",
        "colab_type": "code",
        "colab": {
          "base_uri": "https://localhost:8080/",
          "height": 170
        },
        "outputId": "a77b8d0e-6cd8-4c79-961b-c805c16023f3"
      },
      "cell_type": "code",
      "source": [
        "print(classification_report(y_test, yhat2))"
      ],
      "execution_count": 83,
      "outputs": [
        {
          "output_type": "stream",
          "text": [
            "              precision    recall  f1-score   support\n",
            "\n",
            "           0       0.97      1.00      0.98    840436\n",
            "           1       0.90      0.03      0.05     28229\n",
            "\n",
            "   micro avg       0.97      0.97      0.97    868665\n",
            "   macro avg       0.93      0.51      0.52    868665\n",
            "weighted avg       0.97      0.97      0.95    868665\n",
            "\n"
          ],
          "name": "stdout"
        }
      ]
    },
    {
      "metadata": {
        "id": "a7GGMlPYURaU",
        "colab_type": "text"
      },
      "cell_type": "markdown",
      "source": [
        "## Using XGBoost "
      ]
    },
    {
      "metadata": {
        "id": "Gue1HPNTrdCZ",
        "colab_type": "code",
        "colab": {
          "base_uri": "https://localhost:8080/",
          "height": 119
        },
        "outputId": "c4fcbd15-107a-4349-aaf3-512dae0f8d8f"
      },
      "cell_type": "code",
      "source": [
        "XGB.fit(X_train,y_train)"
      ],
      "execution_count": 84,
      "outputs": [
        {
          "output_type": "execute_result",
          "data": {
            "text/plain": [
              "XGBClassifier(base_score=0.5, booster='gbtree', colsample_bylevel=1,\n",
              "       colsample_bytree=0.8, gamma=0, learning_rate=0.05, max_delta_step=0,\n",
              "       max_depth=3, min_child_weight=1, missing=None, n_estimators=1000,\n",
              "       n_jobs=1, nthread=4, objective='binary:logistic', random_state=0,\n",
              "       reg_alpha=0, reg_lambda=1, scale_pos_weight=1, seed=27, silent=True,\n",
              "       subsample=0.8)"
            ]
          },
          "metadata": {
            "tags": []
          },
          "execution_count": 84
        }
      ]
    },
    {
      "metadata": {
        "id": "DXiCR-BVPOBF",
        "colab_type": "code",
        "colab": {}
      },
      "cell_type": "code",
      "source": [
        "yhat3 = XGB.predict(X_test)"
      ],
      "execution_count": 0,
      "outputs": []
    },
    {
      "metadata": {
        "id": "pScLYnVxYUBA",
        "colab_type": "code",
        "colab": {
          "base_uri": "https://localhost:8080/",
          "height": 51
        },
        "outputId": "d79a720b-57a8-41e4-9a67-25a501171673"
      },
      "cell_type": "code",
      "source": [
        "print(confusion_matrix(y_test, yhat3,labels=[1,0]))"
      ],
      "execution_count": 86,
      "outputs": [
        {
          "output_type": "stream",
          "text": [
            "[[   741  27488]\n",
            " [    82 840354]]\n"
          ],
          "name": "stdout"
        }
      ]
    },
    {
      "metadata": {
        "id": "wfNrVxwPPuOt",
        "colab_type": "code",
        "colab": {
          "base_uri": "https://localhost:8080/",
          "height": 34
        },
        "outputId": "6604c205-9907-4586-9f4e-d49a41be6cf8"
      },
      "cell_type": "code",
      "source": [
        "print(\"Accuracy:\",metrics.accuracy_score(y_test, yhat3))"
      ],
      "execution_count": 87,
      "outputs": [
        {
          "output_type": "stream",
          "text": [
            "Accuracy: 0.9682616428657768\n"
          ],
          "name": "stdout"
        }
      ]
    },
    {
      "metadata": {
        "id": "xj0sZSARb48j",
        "colab_type": "code",
        "colab": {
          "base_uri": "https://localhost:8080/",
          "height": 51
        },
        "outputId": "4b083556-d58b-4a1c-ede0-7519a77e160e"
      },
      "cell_type": "code",
      "source": [
        "print(confusion_matrix(y_test, yhat3,labels=[1,0]))"
      ],
      "execution_count": 88,
      "outputs": [
        {
          "output_type": "stream",
          "text": [
            "[[   741  27488]\n",
            " [    82 840354]]\n"
          ],
          "name": "stdout"
        }
      ]
    },
    {
      "metadata": {
        "id": "NiwgQHS3T8Lj",
        "colab_type": "code",
        "colab": {
          "base_uri": "https://localhost:8080/",
          "height": 170
        },
        "outputId": "af3c4b8c-94e1-48e6-99e1-61c4dbf0dfea"
      },
      "cell_type": "code",
      "source": [
        "print(classification_report(y_test, yhat3))"
      ],
      "execution_count": 89,
      "outputs": [
        {
          "output_type": "stream",
          "text": [
            "              precision    recall  f1-score   support\n",
            "\n",
            "           0       0.97      1.00      0.98    840436\n",
            "           1       0.90      0.03      0.05     28229\n",
            "\n",
            "   micro avg       0.97      0.97      0.97    868665\n",
            "   macro avg       0.93      0.51      0.52    868665\n",
            "weighted avg       0.97      0.97      0.95    868665\n",
            "\n"
          ],
          "name": "stdout"
        }
      ]
    },
    {
      "metadata": {
        "id": "GJFyfVCjxezy",
        "colab_type": "code",
        "colab": {}
      },
      "cell_type": "code",
      "source": [
        ""
      ],
      "execution_count": 0,
      "outputs": []
    },
    {
      "metadata": {
        "id": "YD7VBnWmdAVy",
        "colab_type": "text"
      },
      "cell_type": "markdown",
      "source": [
        "## KNN"
      ]
    },
    {
      "metadata": {
        "id": "MCSD_sDzdDo4",
        "colab_type": "code",
        "colab": {
          "base_uri": "https://localhost:8080/",
          "height": 364
        },
        "outputId": "112abb88-53a7-41a9-c446-3bc8b6ef5e06"
      },
      "cell_type": "code",
      "source": [
        "best_k=[]\n",
        "for k in range(1,10):\n",
        "    #k=k+1\n",
        "    KN=KNeighborsClassifier(n_neighbors=k) \n",
        "    KN.fit(X_train,y_train)\n",
        "    yhat4=KN.predict(X_test)\n",
        "    acc=accuracy_score(y_test,yhat4)\n",
        "    best_k.append(acc)\n",
        "plt.plot(range(1,10),best_k,ls='--',color='blue',marker='o',markerfacecolor='red',markersize=10)"
      ],
      "execution_count": 90,
      "outputs": [
        {
          "output_type": "execute_result",
          "data": {
            "text/plain": [
              "[<matplotlib.lines.Line2D at 0x7f880776e588>]"
            ]
          },
          "metadata": {
            "tags": []
          },
          "execution_count": 90
        },
        {
          "output_type": "display_data",
          "data": {
            "image/png": "[encoded data removed]",
            "text/plain": [
              "<Figure size 576x396 with 1 Axes>"
            ]
          },
          "metadata": {
            "tags": []
          }
        }
      ]
    },
    {
      "metadata": {
        "id": "6WRAKbJcI9rt",
        "colab_type": "code",
        "colab": {}
      },
      "cell_type": "code",
      "source": [
        "KN=KNeighborsClassifier(n_neighbors=8) "
      ],
      "execution_count": 0,
      "outputs": []
    },
    {
      "metadata": {
        "id": "fr7hwvxBJHny",
        "colab_type": "code",
        "colab": {
          "base_uri": "https://localhost:8080/",
          "height": 68
        },
        "outputId": "4d8718e0-421b-40a4-ede3-3918a1aaeb17"
      },
      "cell_type": "code",
      "source": [
        "KN.fit(X_train,y_train)"
      ],
      "execution_count": 92,
      "outputs": [
        {
          "output_type": "execute_result",
          "data": {
            "text/plain": [
              "KNeighborsClassifier(algorithm='auto', leaf_size=30, metric='minkowski',\n",
              "           metric_params=None, n_jobs=None, n_neighbors=8, p=2,\n",
              "           weights='uniform')"
            ]
          },
          "metadata": {
            "tags": []
          },
          "execution_count": 92
        }
      ]
    },
    {
      "metadata": {
        "id": "e0McHp_fJReW",
        "colab_type": "code",
        "colab": {}
      },
      "cell_type": "code",
      "source": [
        "yhat4=KN.predict(X_test)"
      ],
      "execution_count": 0,
      "outputs": []
    },
    {
      "metadata": {
        "id": "EfS7q589Jd7A",
        "colab_type": "code",
        "colab": {
          "base_uri": "https://localhost:8080/",
          "height": 34
        },
        "outputId": "06456d08-90eb-42f2-dca3-eed49dff9866"
      },
      "cell_type": "code",
      "source": [
        "print(\"Accuracy:\",metrics.accuracy_score(y_test, yhat4))"
      ],
      "execution_count": 94,
      "outputs": [
        {
          "output_type": "stream",
          "text": [
            "Accuracy: 0.9681626403734466\n"
          ],
          "name": "stdout"
        }
      ]
    },
    {
      "metadata": {
        "id": "QW60hrRKJmIW",
        "colab_type": "code",
        "colab": {
          "base_uri": "https://localhost:8080/",
          "height": 51
        },
        "outputId": "d0584ef9-3c24-416e-f988-e6b346d7e50f"
      },
      "cell_type": "code",
      "source": [
        "print(confusion_matrix(y_test, yhat4,labels=[1,0])"
      ],
      "execution_count": 95,
      "outputs": [
        {
          "output_type": "stream",
          "text": [
            "[[  1174  27055]\n",
            " [   601 839835]]\n"
          ],
          "name": "stdout"
        }
      ]
    },
    {
      "metadata": {
        "id": "DB42wVB7JlwO",
        "colab_type": "code",
        "colab": {
          "base_uri": "https://localhost:8080/",
          "height": 170
        },
        "outputId": "7618a354-7cc2-4ae0-eef9-3cbe6620fdf5"
      },
      "cell_type": "code",
      "source": [
        "print(classification_report(y_test, yhat4)"
      ],
      "execution_count": 96,
      "outputs": [
        {
          "output_type": "stream",
          "text": [
            "              precision    recall  f1-score   support\n",
            "\n",
            "           0       0.97      1.00      0.98    840436\n",
            "           1       0.66      0.04      0.08     28229\n",
            "\n",
            "   micro avg       0.97      0.97      0.97    868665\n",
            "   macro avg       0.82      0.52      0.53    868665\n",
            "weighted avg       0.96      0.97      0.95    868665\n",
            "\n"
          ],
          "name": "stdout"
        }
      ]
    }
  ]
}